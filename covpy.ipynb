{
 "cells": [
  {
   "cell_type": "code",
   "execution_count": 1,
   "metadata": {
    "_cell_guid": "b1076dfc-b9ad-4769-8c92-a6c4dae69d19",
    "_uuid": "8f2839f25d086af736a60e9eeb907d3b93b6e0e5",
    "execution": {
     "iopub.execute_input": "2022-12-05T13:05:42.127930Z",
     "iopub.status.busy": "2022-12-05T13:05:42.127466Z",
     "iopub.status.idle": "2022-12-05T13:05:43.045787Z",
     "shell.execute_reply": "2022-12-05T13:05:43.044713Z",
     "shell.execute_reply.started": "2022-12-05T13:05:42.127848Z"
    }
   },
   "outputs": [],
   "source": [
    "import numpy as np\n",
    "import pandas as pd\n",
    "import seaborn as sns\n",
    "\n",
    "import matplotlib.pyplot as plt\n",
    "import warnings\n",
    "warnings.filterwarnings(\"ignore\")\n",
    "import numpy as np\n",
    "import pandas as pd\n",
    "from matplotlib import pyplot as plt\n",
    "import scipy\n",
    "\n",
    "from sklearn.model_selection import train_test_split\n",
    "from sklearn.svm import SVC\n",
    "from sklearn.tree import DecisionTreeClassifier\n",
    "from sklearn.ensemble import RandomForestClassifier\n",
    "from sklearn.neural_network import MLPClassifier\n",
    "from sklearn.metrics import classification_report\n",
    "from sklearn.model_selection import GridSearchCV"
   ]
  },
  {
   "cell_type": "code",
   "execution_count": 2,
   "metadata": {
    "execution": {
     "iopub.execute_input": "2022-12-05T13:05:43.047945Z",
     "iopub.status.busy": "2022-12-05T13:05:43.047615Z",
     "iopub.status.idle": "2022-12-05T13:05:44.663697Z",
     "shell.execute_reply": "2022-12-05T13:05:44.663115Z",
     "shell.execute_reply.started": "2022-12-05T13:05:43.047913Z"
    }
   },
   "outputs": [],
   "source": [
    "\n",
    "df = pd.read_csv(\"cov.csv\")"
   ]
  },
  {
   "cell_type": "code",
   "execution_count": 112,
   "metadata": {
    "execution": {
     "iopub.execute_input": "2022-12-05T13:05:44.665292Z",
     "iopub.status.busy": "2022-12-05T13:05:44.664877Z",
     "iopub.status.idle": "2022-12-05T13:05:44.696220Z",
     "shell.execute_reply": "2022-12-05T13:05:44.695081Z",
     "shell.execute_reply.started": "2022-12-05T13:05:44.665259Z"
    },
    "scrolled": true
   },
   "outputs": [
    {
     "data": {
      "text/html": [
       "<div>\n",
       "<style scoped>\n",
       "    .dataframe tbody tr th:only-of-type {\n",
       "        vertical-align: middle;\n",
       "    }\n",
       "\n",
       "    .dataframe tbody tr th {\n",
       "        vertical-align: top;\n",
       "    }\n",
       "\n",
       "    .dataframe thead th {\n",
       "        text-align: right;\n",
       "    }\n",
       "</style>\n",
       "<table border=\"1\" class=\"dataframe\">\n",
       "  <thead>\n",
       "    <tr style=\"text-align: right;\">\n",
       "      <th></th>\n",
       "      <th>USMER</th>\n",
       "      <th>MEDICAL_UNIT</th>\n",
       "      <th>SEX</th>\n",
       "      <th>PATIENT_TYPE</th>\n",
       "      <th>DATE_DIED</th>\n",
       "      <th>INTUBED</th>\n",
       "      <th>PNEUMONIA</th>\n",
       "      <th>AGE</th>\n",
       "      <th>PREGNANT</th>\n",
       "      <th>DIABETES</th>\n",
       "      <th>...</th>\n",
       "      <th>ASTHMA</th>\n",
       "      <th>INMSUPR</th>\n",
       "      <th>HIPERTENSION</th>\n",
       "      <th>OTHER_DISEASE</th>\n",
       "      <th>CARDIOVASCULAR</th>\n",
       "      <th>OBESITY</th>\n",
       "      <th>RENAL_CHRONIC</th>\n",
       "      <th>TOBACCO</th>\n",
       "      <th>CLASIFFICATION_FINAL</th>\n",
       "      <th>ICU</th>\n",
       "    </tr>\n",
       "  </thead>\n",
       "  <tbody>\n",
       "    <tr>\n",
       "      <th>0</th>\n",
       "      <td>2</td>\n",
       "      <td>1</td>\n",
       "      <td>1</td>\n",
       "      <td>1</td>\n",
       "      <td>03/05/2020</td>\n",
       "      <td>97</td>\n",
       "      <td>1</td>\n",
       "      <td>65</td>\n",
       "      <td>2</td>\n",
       "      <td>2</td>\n",
       "      <td>...</td>\n",
       "      <td>2</td>\n",
       "      <td>2</td>\n",
       "      <td>1</td>\n",
       "      <td>2</td>\n",
       "      <td>2</td>\n",
       "      <td>2</td>\n",
       "      <td>2</td>\n",
       "      <td>2</td>\n",
       "      <td>3</td>\n",
       "      <td>97</td>\n",
       "    </tr>\n",
       "    <tr>\n",
       "      <th>1</th>\n",
       "      <td>2</td>\n",
       "      <td>1</td>\n",
       "      <td>2</td>\n",
       "      <td>1</td>\n",
       "      <td>03/06/2020</td>\n",
       "      <td>97</td>\n",
       "      <td>1</td>\n",
       "      <td>72</td>\n",
       "      <td>97</td>\n",
       "      <td>2</td>\n",
       "      <td>...</td>\n",
       "      <td>2</td>\n",
       "      <td>2</td>\n",
       "      <td>1</td>\n",
       "      <td>2</td>\n",
       "      <td>2</td>\n",
       "      <td>1</td>\n",
       "      <td>1</td>\n",
       "      <td>2</td>\n",
       "      <td>5</td>\n",
       "      <td>97</td>\n",
       "    </tr>\n",
       "    <tr>\n",
       "      <th>2</th>\n",
       "      <td>2</td>\n",
       "      <td>1</td>\n",
       "      <td>2</td>\n",
       "      <td>2</td>\n",
       "      <td>09/06/2020</td>\n",
       "      <td>1</td>\n",
       "      <td>2</td>\n",
       "      <td>55</td>\n",
       "      <td>97</td>\n",
       "      <td>1</td>\n",
       "      <td>...</td>\n",
       "      <td>2</td>\n",
       "      <td>2</td>\n",
       "      <td>2</td>\n",
       "      <td>2</td>\n",
       "      <td>2</td>\n",
       "      <td>2</td>\n",
       "      <td>2</td>\n",
       "      <td>2</td>\n",
       "      <td>3</td>\n",
       "      <td>2</td>\n",
       "    </tr>\n",
       "    <tr>\n",
       "      <th>3</th>\n",
       "      <td>2</td>\n",
       "      <td>1</td>\n",
       "      <td>1</td>\n",
       "      <td>1</td>\n",
       "      <td>12/06/2020</td>\n",
       "      <td>97</td>\n",
       "      <td>2</td>\n",
       "      <td>53</td>\n",
       "      <td>2</td>\n",
       "      <td>2</td>\n",
       "      <td>...</td>\n",
       "      <td>2</td>\n",
       "      <td>2</td>\n",
       "      <td>2</td>\n",
       "      <td>2</td>\n",
       "      <td>2</td>\n",
       "      <td>2</td>\n",
       "      <td>2</td>\n",
       "      <td>2</td>\n",
       "      <td>7</td>\n",
       "      <td>97</td>\n",
       "    </tr>\n",
       "    <tr>\n",
       "      <th>4</th>\n",
       "      <td>2</td>\n",
       "      <td>1</td>\n",
       "      <td>2</td>\n",
       "      <td>1</td>\n",
       "      <td>21/06/2020</td>\n",
       "      <td>97</td>\n",
       "      <td>2</td>\n",
       "      <td>68</td>\n",
       "      <td>97</td>\n",
       "      <td>1</td>\n",
       "      <td>...</td>\n",
       "      <td>2</td>\n",
       "      <td>2</td>\n",
       "      <td>1</td>\n",
       "      <td>2</td>\n",
       "      <td>2</td>\n",
       "      <td>2</td>\n",
       "      <td>2</td>\n",
       "      <td>2</td>\n",
       "      <td>3</td>\n",
       "      <td>97</td>\n",
       "    </tr>\n",
       "  </tbody>\n",
       "</table>\n",
       "<p>5 rows × 21 columns</p>\n",
       "</div>"
      ],
      "text/plain": [
       "   USMER  MEDICAL_UNIT  SEX  PATIENT_TYPE   DATE_DIED  INTUBED  PNEUMONIA  \\\n",
       "0      2             1    1             1  03/05/2020       97          1   \n",
       "1      2             1    2             1  03/06/2020       97          1   \n",
       "2      2             1    2             2  09/06/2020        1          2   \n",
       "3      2             1    1             1  12/06/2020       97          2   \n",
       "4      2             1    2             1  21/06/2020       97          2   \n",
       "\n",
       "   AGE  PREGNANT  DIABETES  ...  ASTHMA  INMSUPR  HIPERTENSION  OTHER_DISEASE  \\\n",
       "0   65         2         2  ...       2        2             1              2   \n",
       "1   72        97         2  ...       2        2             1              2   \n",
       "2   55        97         1  ...       2        2             2              2   \n",
       "3   53         2         2  ...       2        2             2              2   \n",
       "4   68        97         1  ...       2        2             1              2   \n",
       "\n",
       "   CARDIOVASCULAR  OBESITY  RENAL_CHRONIC  TOBACCO  CLASIFFICATION_FINAL  ICU  \n",
       "0               2        2              2        2                     3   97  \n",
       "1               2        1              1        2                     5   97  \n",
       "2               2        2              2        2                     3    2  \n",
       "3               2        2              2        2                     7   97  \n",
       "4               2        2              2        2                     3   97  \n",
       "\n",
       "[5 rows x 21 columns]"
      ]
     },
     "execution_count": 112,
     "metadata": {},
     "output_type": "execute_result"
    }
   ],
   "source": [
    "df.head()"
   ]
  },
  {
   "cell_type": "code",
   "execution_count": 113,
   "metadata": {},
   "outputs": [
    {
     "data": {
      "text/html": [
       "<div>\n",
       "<style scoped>\n",
       "    .dataframe tbody tr th:only-of-type {\n",
       "        vertical-align: middle;\n",
       "    }\n",
       "\n",
       "    .dataframe tbody tr th {\n",
       "        vertical-align: top;\n",
       "    }\n",
       "\n",
       "    .dataframe thead th {\n",
       "        text-align: right;\n",
       "    }\n",
       "</style>\n",
       "<table border=\"1\" class=\"dataframe\">\n",
       "  <thead>\n",
       "    <tr style=\"text-align: right;\">\n",
       "      <th></th>\n",
       "      <th>USMER</th>\n",
       "      <th>MEDICAL_UNIT</th>\n",
       "      <th>SEX</th>\n",
       "      <th>PATIENT_TYPE</th>\n",
       "      <th>INTUBED</th>\n",
       "      <th>PNEUMONIA</th>\n",
       "      <th>AGE</th>\n",
       "      <th>PREGNANT</th>\n",
       "      <th>DIABETES</th>\n",
       "      <th>COPD</th>\n",
       "      <th>ASTHMA</th>\n",
       "      <th>INMSUPR</th>\n",
       "      <th>HIPERTENSION</th>\n",
       "      <th>OTHER_DISEASE</th>\n",
       "      <th>CARDIOVASCULAR</th>\n",
       "      <th>OBESITY</th>\n",
       "      <th>RENAL_CHRONIC</th>\n",
       "      <th>TOBACCO</th>\n",
       "      <th>CLASIFFICATION_FINAL</th>\n",
       "      <th>ICU</th>\n",
       "    </tr>\n",
       "  </thead>\n",
       "  <tbody>\n",
       "    <tr>\n",
       "      <th>count</th>\n",
       "      <td>1.048575e+06</td>\n",
       "      <td>1.048575e+06</td>\n",
       "      <td>1.048575e+06</td>\n",
       "      <td>1.048575e+06</td>\n",
       "      <td>1.048575e+06</td>\n",
       "      <td>1.048575e+06</td>\n",
       "      <td>1.048575e+06</td>\n",
       "      <td>1.048575e+06</td>\n",
       "      <td>1.048575e+06</td>\n",
       "      <td>1.048575e+06</td>\n",
       "      <td>1.048575e+06</td>\n",
       "      <td>1.048575e+06</td>\n",
       "      <td>1.048575e+06</td>\n",
       "      <td>1.048575e+06</td>\n",
       "      <td>1.048575e+06</td>\n",
       "      <td>1.048575e+06</td>\n",
       "      <td>1.048575e+06</td>\n",
       "      <td>1.048575e+06</td>\n",
       "      <td>1.048575e+06</td>\n",
       "      <td>1.048575e+06</td>\n",
       "    </tr>\n",
       "    <tr>\n",
       "      <th>mean</th>\n",
       "      <td>1.632194e+00</td>\n",
       "      <td>8.980565e+00</td>\n",
       "      <td>1.499259e+00</td>\n",
       "      <td>1.190765e+00</td>\n",
       "      <td>7.952288e+01</td>\n",
       "      <td>3.346831e+00</td>\n",
       "      <td>4.179410e+01</td>\n",
       "      <td>4.976558e+01</td>\n",
       "      <td>2.186404e+00</td>\n",
       "      <td>2.260569e+00</td>\n",
       "      <td>2.242626e+00</td>\n",
       "      <td>2.298132e+00</td>\n",
       "      <td>2.128989e+00</td>\n",
       "      <td>2.435143e+00</td>\n",
       "      <td>2.261810e+00</td>\n",
       "      <td>2.125176e+00</td>\n",
       "      <td>2.257180e+00</td>\n",
       "      <td>2.214333e+00</td>\n",
       "      <td>5.305653e+00</td>\n",
       "      <td>7.955397e+01</td>\n",
       "    </tr>\n",
       "    <tr>\n",
       "      <th>std</th>\n",
       "      <td>4.822084e-01</td>\n",
       "      <td>3.723278e+00</td>\n",
       "      <td>4.999997e-01</td>\n",
       "      <td>3.929041e-01</td>\n",
       "      <td>3.686889e+01</td>\n",
       "      <td>1.191288e+01</td>\n",
       "      <td>1.690739e+01</td>\n",
       "      <td>4.751073e+01</td>\n",
       "      <td>5.424242e+00</td>\n",
       "      <td>5.132258e+00</td>\n",
       "      <td>5.114089e+00</td>\n",
       "      <td>5.462843e+00</td>\n",
       "      <td>5.236397e+00</td>\n",
       "      <td>6.646676e+00</td>\n",
       "      <td>5.194850e+00</td>\n",
       "      <td>5.175445e+00</td>\n",
       "      <td>5.135354e+00</td>\n",
       "      <td>5.323097e+00</td>\n",
       "      <td>1.881165e+00</td>\n",
       "      <td>3.682307e+01</td>\n",
       "    </tr>\n",
       "    <tr>\n",
       "      <th>min</th>\n",
       "      <td>1.000000e+00</td>\n",
       "      <td>1.000000e+00</td>\n",
       "      <td>1.000000e+00</td>\n",
       "      <td>1.000000e+00</td>\n",
       "      <td>1.000000e+00</td>\n",
       "      <td>1.000000e+00</td>\n",
       "      <td>0.000000e+00</td>\n",
       "      <td>1.000000e+00</td>\n",
       "      <td>1.000000e+00</td>\n",
       "      <td>1.000000e+00</td>\n",
       "      <td>1.000000e+00</td>\n",
       "      <td>1.000000e+00</td>\n",
       "      <td>1.000000e+00</td>\n",
       "      <td>1.000000e+00</td>\n",
       "      <td>1.000000e+00</td>\n",
       "      <td>1.000000e+00</td>\n",
       "      <td>1.000000e+00</td>\n",
       "      <td>1.000000e+00</td>\n",
       "      <td>1.000000e+00</td>\n",
       "      <td>1.000000e+00</td>\n",
       "    </tr>\n",
       "    <tr>\n",
       "      <th>25%</th>\n",
       "      <td>1.000000e+00</td>\n",
       "      <td>4.000000e+00</td>\n",
       "      <td>1.000000e+00</td>\n",
       "      <td>1.000000e+00</td>\n",
       "      <td>9.700000e+01</td>\n",
       "      <td>2.000000e+00</td>\n",
       "      <td>3.000000e+01</td>\n",
       "      <td>2.000000e+00</td>\n",
       "      <td>2.000000e+00</td>\n",
       "      <td>2.000000e+00</td>\n",
       "      <td>2.000000e+00</td>\n",
       "      <td>2.000000e+00</td>\n",
       "      <td>2.000000e+00</td>\n",
       "      <td>2.000000e+00</td>\n",
       "      <td>2.000000e+00</td>\n",
       "      <td>2.000000e+00</td>\n",
       "      <td>2.000000e+00</td>\n",
       "      <td>2.000000e+00</td>\n",
       "      <td>3.000000e+00</td>\n",
       "      <td>9.700000e+01</td>\n",
       "    </tr>\n",
       "    <tr>\n",
       "      <th>50%</th>\n",
       "      <td>2.000000e+00</td>\n",
       "      <td>1.200000e+01</td>\n",
       "      <td>1.000000e+00</td>\n",
       "      <td>1.000000e+00</td>\n",
       "      <td>9.700000e+01</td>\n",
       "      <td>2.000000e+00</td>\n",
       "      <td>4.000000e+01</td>\n",
       "      <td>9.700000e+01</td>\n",
       "      <td>2.000000e+00</td>\n",
       "      <td>2.000000e+00</td>\n",
       "      <td>2.000000e+00</td>\n",
       "      <td>2.000000e+00</td>\n",
       "      <td>2.000000e+00</td>\n",
       "      <td>2.000000e+00</td>\n",
       "      <td>2.000000e+00</td>\n",
       "      <td>2.000000e+00</td>\n",
       "      <td>2.000000e+00</td>\n",
       "      <td>2.000000e+00</td>\n",
       "      <td>6.000000e+00</td>\n",
       "      <td>9.700000e+01</td>\n",
       "    </tr>\n",
       "    <tr>\n",
       "      <th>75%</th>\n",
       "      <td>2.000000e+00</td>\n",
       "      <td>1.200000e+01</td>\n",
       "      <td>2.000000e+00</td>\n",
       "      <td>1.000000e+00</td>\n",
       "      <td>9.700000e+01</td>\n",
       "      <td>2.000000e+00</td>\n",
       "      <td>5.300000e+01</td>\n",
       "      <td>9.700000e+01</td>\n",
       "      <td>2.000000e+00</td>\n",
       "      <td>2.000000e+00</td>\n",
       "      <td>2.000000e+00</td>\n",
       "      <td>2.000000e+00</td>\n",
       "      <td>2.000000e+00</td>\n",
       "      <td>2.000000e+00</td>\n",
       "      <td>2.000000e+00</td>\n",
       "      <td>2.000000e+00</td>\n",
       "      <td>2.000000e+00</td>\n",
       "      <td>2.000000e+00</td>\n",
       "      <td>7.000000e+00</td>\n",
       "      <td>9.700000e+01</td>\n",
       "    </tr>\n",
       "    <tr>\n",
       "      <th>max</th>\n",
       "      <td>2.000000e+00</td>\n",
       "      <td>1.300000e+01</td>\n",
       "      <td>2.000000e+00</td>\n",
       "      <td>2.000000e+00</td>\n",
       "      <td>9.900000e+01</td>\n",
       "      <td>9.900000e+01</td>\n",
       "      <td>1.210000e+02</td>\n",
       "      <td>9.800000e+01</td>\n",
       "      <td>9.800000e+01</td>\n",
       "      <td>9.800000e+01</td>\n",
       "      <td>9.800000e+01</td>\n",
       "      <td>9.800000e+01</td>\n",
       "      <td>9.800000e+01</td>\n",
       "      <td>9.800000e+01</td>\n",
       "      <td>9.800000e+01</td>\n",
       "      <td>9.800000e+01</td>\n",
       "      <td>9.800000e+01</td>\n",
       "      <td>9.800000e+01</td>\n",
       "      <td>7.000000e+00</td>\n",
       "      <td>9.900000e+01</td>\n",
       "    </tr>\n",
       "  </tbody>\n",
       "</table>\n",
       "</div>"
      ],
      "text/plain": [
       "              USMER  MEDICAL_UNIT           SEX  PATIENT_TYPE       INTUBED  \\\n",
       "count  1.048575e+06  1.048575e+06  1.048575e+06  1.048575e+06  1.048575e+06   \n",
       "mean   1.632194e+00  8.980565e+00  1.499259e+00  1.190765e+00  7.952288e+01   \n",
       "std    4.822084e-01  3.723278e+00  4.999997e-01  3.929041e-01  3.686889e+01   \n",
       "min    1.000000e+00  1.000000e+00  1.000000e+00  1.000000e+00  1.000000e+00   \n",
       "25%    1.000000e+00  4.000000e+00  1.000000e+00  1.000000e+00  9.700000e+01   \n",
       "50%    2.000000e+00  1.200000e+01  1.000000e+00  1.000000e+00  9.700000e+01   \n",
       "75%    2.000000e+00  1.200000e+01  2.000000e+00  1.000000e+00  9.700000e+01   \n",
       "max    2.000000e+00  1.300000e+01  2.000000e+00  2.000000e+00  9.900000e+01   \n",
       "\n",
       "          PNEUMONIA           AGE      PREGNANT      DIABETES          COPD  \\\n",
       "count  1.048575e+06  1.048575e+06  1.048575e+06  1.048575e+06  1.048575e+06   \n",
       "mean   3.346831e+00  4.179410e+01  4.976558e+01  2.186404e+00  2.260569e+00   \n",
       "std    1.191288e+01  1.690739e+01  4.751073e+01  5.424242e+00  5.132258e+00   \n",
       "min    1.000000e+00  0.000000e+00  1.000000e+00  1.000000e+00  1.000000e+00   \n",
       "25%    2.000000e+00  3.000000e+01  2.000000e+00  2.000000e+00  2.000000e+00   \n",
       "50%    2.000000e+00  4.000000e+01  9.700000e+01  2.000000e+00  2.000000e+00   \n",
       "75%    2.000000e+00  5.300000e+01  9.700000e+01  2.000000e+00  2.000000e+00   \n",
       "max    9.900000e+01  1.210000e+02  9.800000e+01  9.800000e+01  9.800000e+01   \n",
       "\n",
       "             ASTHMA       INMSUPR  HIPERTENSION  OTHER_DISEASE  \\\n",
       "count  1.048575e+06  1.048575e+06  1.048575e+06   1.048575e+06   \n",
       "mean   2.242626e+00  2.298132e+00  2.128989e+00   2.435143e+00   \n",
       "std    5.114089e+00  5.462843e+00  5.236397e+00   6.646676e+00   \n",
       "min    1.000000e+00  1.000000e+00  1.000000e+00   1.000000e+00   \n",
       "25%    2.000000e+00  2.000000e+00  2.000000e+00   2.000000e+00   \n",
       "50%    2.000000e+00  2.000000e+00  2.000000e+00   2.000000e+00   \n",
       "75%    2.000000e+00  2.000000e+00  2.000000e+00   2.000000e+00   \n",
       "max    9.800000e+01  9.800000e+01  9.800000e+01   9.800000e+01   \n",
       "\n",
       "       CARDIOVASCULAR       OBESITY  RENAL_CHRONIC       TOBACCO  \\\n",
       "count    1.048575e+06  1.048575e+06   1.048575e+06  1.048575e+06   \n",
       "mean     2.261810e+00  2.125176e+00   2.257180e+00  2.214333e+00   \n",
       "std      5.194850e+00  5.175445e+00   5.135354e+00  5.323097e+00   \n",
       "min      1.000000e+00  1.000000e+00   1.000000e+00  1.000000e+00   \n",
       "25%      2.000000e+00  2.000000e+00   2.000000e+00  2.000000e+00   \n",
       "50%      2.000000e+00  2.000000e+00   2.000000e+00  2.000000e+00   \n",
       "75%      2.000000e+00  2.000000e+00   2.000000e+00  2.000000e+00   \n",
       "max      9.800000e+01  9.800000e+01   9.800000e+01  9.800000e+01   \n",
       "\n",
       "       CLASIFFICATION_FINAL           ICU  \n",
       "count          1.048575e+06  1.048575e+06  \n",
       "mean           5.305653e+00  7.955397e+01  \n",
       "std            1.881165e+00  3.682307e+01  \n",
       "min            1.000000e+00  1.000000e+00  \n",
       "25%            3.000000e+00  9.700000e+01  \n",
       "50%            6.000000e+00  9.700000e+01  \n",
       "75%            7.000000e+00  9.700000e+01  \n",
       "max            7.000000e+00  9.900000e+01  "
      ]
     },
     "execution_count": 113,
     "metadata": {},
     "output_type": "execute_result"
    }
   ],
   "source": [
    "df.describe()\n"
   ]
  },
  {
   "cell_type": "code",
   "execution_count": 114,
   "metadata": {
    "execution": {
     "iopub.execute_input": "2022-12-05T13:05:44.698729Z",
     "iopub.status.busy": "2022-12-05T13:05:44.698107Z",
     "iopub.status.idle": "2022-12-05T13:05:44.775365Z",
     "shell.execute_reply": "2022-12-05T13:05:44.774453Z",
     "shell.execute_reply.started": "2022-12-05T13:05:44.698700Z"
    }
   },
   "outputs": [
    {
     "name": "stdout",
     "output_type": "stream",
     "text": [
      "<class 'pandas.core.frame.DataFrame'>\n",
      "RangeIndex: 1048575 entries, 0 to 1048574\n",
      "Data columns (total 21 columns):\n",
      " #   Column                Non-Null Count    Dtype \n",
      "---  ------                --------------    ----- \n",
      " 0   USMER                 1048575 non-null  int64 \n",
      " 1   MEDICAL_UNIT          1048575 non-null  int64 \n",
      " 2   SEX                   1048575 non-null  int64 \n",
      " 3   PATIENT_TYPE          1048575 non-null  int64 \n",
      " 4   DATE_DIED             1048575 non-null  object\n",
      " 5   INTUBED               1048575 non-null  int64 \n",
      " 6   PNEUMONIA             1048575 non-null  int64 \n",
      " 7   AGE                   1048575 non-null  int64 \n",
      " 8   PREGNANT              1048575 non-null  int64 \n",
      " 9   DIABETES              1048575 non-null  int64 \n",
      " 10  COPD                  1048575 non-null  int64 \n",
      " 11  ASTHMA                1048575 non-null  int64 \n",
      " 12  INMSUPR               1048575 non-null  int64 \n",
      " 13  HIPERTENSION          1048575 non-null  int64 \n",
      " 14  OTHER_DISEASE         1048575 non-null  int64 \n",
      " 15  CARDIOVASCULAR        1048575 non-null  int64 \n",
      " 16  OBESITY               1048575 non-null  int64 \n",
      " 17  RENAL_CHRONIC         1048575 non-null  int64 \n",
      " 18  TOBACCO               1048575 non-null  int64 \n",
      " 19  CLASIFFICATION_FINAL  1048575 non-null  int64 \n",
      " 20  ICU                   1048575 non-null  int64 \n",
      "dtypes: int64(20), object(1)\n",
      "memory usage: 168.0+ MB\n"
     ]
    }
   ],
   "source": [
    "df.info()"
   ]
  },
  {
   "cell_type": "code",
   "execution_count": 115,
   "metadata": {
    "execution": {
     "iopub.execute_input": "2022-12-05T13:05:44.777089Z",
     "iopub.status.busy": "2022-12-05T13:05:44.776670Z",
     "iopub.status.idle": "2022-12-05T13:05:44.837180Z",
     "shell.execute_reply": "2022-12-05T13:05:44.836343Z",
     "shell.execute_reply.started": "2022-12-05T13:05:44.777054Z"
    }
   },
   "outputs": [
    {
     "data": {
      "text/plain": [
       "USMER                   0\n",
       "MEDICAL_UNIT            0\n",
       "SEX                     0\n",
       "PATIENT_TYPE            0\n",
       "DATE_DIED               0\n",
       "INTUBED                 0\n",
       "PNEUMONIA               0\n",
       "AGE                     0\n",
       "PREGNANT                0\n",
       "DIABETES                0\n",
       "COPD                    0\n",
       "ASTHMA                  0\n",
       "INMSUPR                 0\n",
       "HIPERTENSION            0\n",
       "OTHER_DISEASE           0\n",
       "CARDIOVASCULAR          0\n",
       "OBESITY                 0\n",
       "RENAL_CHRONIC           0\n",
       "TOBACCO                 0\n",
       "CLASIFFICATION_FINAL    0\n",
       "ICU                     0\n",
       "dtype: int64"
      ]
     },
     "execution_count": 115,
     "metadata": {},
     "output_type": "execute_result"
    }
   ],
   "source": [
    "df.isnull().sum()"
   ]
  },
  {
   "cell_type": "markdown",
   "metadata": {},
   "source": [
    "# DATA PREPROCESSING"
   ]
  },
  {
   "cell_type": "code",
   "execution_count": 116,
   "metadata": {},
   "outputs": [
    {
     "data": {
      "text/plain": [
       "2     960979\n",
       "1      84376\n",
       "98      3220\n",
       "Name: TOBACCO, dtype: int64"
      ]
     },
     "execution_count": 116,
     "metadata": {},
     "output_type": "execute_result"
    }
   ],
   "source": [
    "\n",
    "df['PNEUMONIA'].value_counts()\n",
    "df['TOBACCO'].value_counts()\n"
   ]
  },
  {
   "cell_type": "code",
   "execution_count": 3,
   "metadata": {},
   "outputs": [
    {
     "name": "stdout",
     "output_type": "stream",
     "text": [
      "2    662903\n",
      "1    385672\n",
      "Name: USMER, dtype: int64\n",
      "12    602995\n",
      "4     314405\n",
      "6      40584\n",
      "9      38116\n",
      "3      19175\n",
      "8      10399\n",
      "10      7873\n",
      "5       7244\n",
      "11      5577\n",
      "13       996\n",
      "7        891\n",
      "2        169\n",
      "1        151\n",
      "Name: MEDICAL_UNIT, dtype: int64\n",
      "1    525064\n",
      "2    523511\n",
      "Name: SEX, dtype: int64\n",
      "1    848544\n",
      "2    200031\n",
      "Name: PATIENT_TYPE, dtype: int64\n",
      "9999-99-99    971633\n",
      "06/07/2020      1000\n",
      "07/07/2020       996\n",
      "13/07/2020       990\n",
      "16/06/2020       979\n",
      "               ...  \n",
      "24/11/2020         1\n",
      "17/12/2020         1\n",
      "08/12/2020         1\n",
      "16/03/2021         1\n",
      "22/04/2021         1\n",
      "Name: DATE_DIED, Length: 401, dtype: int64\n",
      "97    848544\n",
      "2     159050\n",
      "1      33656\n",
      "99      7325\n",
      "Name: INTUBED, dtype: int64\n",
      "2     892534\n",
      "1     140038\n",
      "99     16003\n",
      "Name: PNEUMONIA, dtype: int64\n",
      "30     27010\n",
      "31     25927\n",
      "28     25313\n",
      "29     25134\n",
      "34     24872\n",
      "       ...  \n",
      "114        2\n",
      "116        2\n",
      "111        1\n",
      "121        1\n",
      "113        1\n",
      "Name: AGE, Length: 121, dtype: int64\n",
      "97    523511\n",
      "2     513179\n",
      "1       8131\n",
      "98      3754\n",
      "Name: PREGNANT, dtype: int64\n",
      "2     920248\n",
      "1     124989\n",
      "98      3338\n",
      "Name: DIABETES, dtype: int64\n",
      "2     1030510\n",
      "1       15062\n",
      "98       3003\n",
      "Name: COPD, dtype: int64\n",
      "2     1014024\n",
      "1       31572\n",
      "98       2979\n",
      "Name: ASTHMA, dtype: int64\n",
      "2     1031001\n",
      "1       14170\n",
      "98       3404\n",
      "Name: INMSUPR, dtype: int64\n",
      "2     882742\n",
      "1     162729\n",
      "98      3104\n",
      "Name: HIPERTENSION, dtype: int64\n",
      "2     1015490\n",
      "1       28040\n",
      "98       5045\n",
      "Name: OTHER_DISEASE, dtype: int64\n",
      "2     1024730\n",
      "1       20769\n",
      "98       3076\n",
      "Name: CARDIOVASCULAR, dtype: int64\n",
      "2     885727\n",
      "1     159816\n",
      "98      3032\n",
      "Name: OBESITY, dtype: int64\n",
      "2     1026665\n",
      "1       18904\n",
      "98       3006\n",
      "Name: RENAL_CHRONIC, dtype: int64\n",
      "2     960979\n",
      "1      84376\n",
      "98      3220\n",
      "Name: TOBACCO, dtype: int64\n",
      "7    499250\n",
      "3    381527\n",
      "6    128133\n",
      "5     26091\n",
      "1      8601\n",
      "4      3122\n",
      "2      1851\n",
      "Name: CLASIFFICATION_FINAL, dtype: int64\n",
      "97    848544\n",
      "2     175685\n",
      "1      16858\n",
      "99      7488\n",
      "Name: ICU, dtype: int64\n"
     ]
    }
   ],
   "source": [
    "\n",
    "for  x in df.columns.tolist():\n",
    "    print(df[x].value_counts())\n",
    "for  x in ['PNEUMONIA','DIABETES','COPD','ASTHMA','INMSUPR','HIPERTENSION','OTHER_DISEASE','CARDIOVASCULAR','OBESITY','RENAL_CHRONIC','TOBACCO']:\n",
    "    df = df[(df[x]==1) | (df[x]==2  )]\n",
    "\n"
   ]
  },
  {
   "cell_type": "code",
   "execution_count": 108,
   "metadata": {
    "execution": {
     "iopub.execute_input": "2022-12-05T13:05:44.838918Z",
     "iopub.status.busy": "2022-12-05T13:05:44.838651Z",
     "iopub.status.idle": "2022-12-05T13:05:46.018038Z",
     "shell.execute_reply": "2022-12-05T13:05:46.016804Z",
     "shell.execute_reply.started": "2022-12-05T13:05:44.838889Z"
    },
    "scrolled": true
   },
   "outputs": [
    {
     "data": {
      "text/html": [
       "<div>\n",
       "<style scoped>\n",
       "    .dataframe tbody tr th:only-of-type {\n",
       "        vertical-align: middle;\n",
       "    }\n",
       "\n",
       "    .dataframe tbody tr th {\n",
       "        vertical-align: top;\n",
       "    }\n",
       "\n",
       "    .dataframe thead th {\n",
       "        text-align: right;\n",
       "    }\n",
       "</style>\n",
       "<table border=\"1\" class=\"dataframe\">\n",
       "  <thead>\n",
       "    <tr style=\"text-align: right;\">\n",
       "      <th></th>\n",
       "      <th>USMER</th>\n",
       "      <th>MEDICAL_UNIT</th>\n",
       "      <th>SEX</th>\n",
       "      <th>PATIENT_TYPE</th>\n",
       "      <th>DATE_DIED</th>\n",
       "      <th>INTUBED</th>\n",
       "      <th>PNEUMONIA</th>\n",
       "      <th>AGE</th>\n",
       "      <th>PREGNANT</th>\n",
       "      <th>DIABETES</th>\n",
       "      <th>...</th>\n",
       "      <th>ASTHMA</th>\n",
       "      <th>INMSUPR</th>\n",
       "      <th>HIPERTENSION</th>\n",
       "      <th>OTHER_DISEASE</th>\n",
       "      <th>CARDIOVASCULAR</th>\n",
       "      <th>OBESITY</th>\n",
       "      <th>RENAL_CHRONIC</th>\n",
       "      <th>TOBACCO</th>\n",
       "      <th>CLASIFFICATION_FINAL</th>\n",
       "      <th>ICU</th>\n",
       "    </tr>\n",
       "  </thead>\n",
       "  <tbody>\n",
       "    <tr>\n",
       "      <th>0</th>\n",
       "      <td>2</td>\n",
       "      <td>1</td>\n",
       "      <td>1</td>\n",
       "      <td>1</td>\n",
       "      <td>03/05/2020</td>\n",
       "      <td>97</td>\n",
       "      <td>1</td>\n",
       "      <td>65</td>\n",
       "      <td>2</td>\n",
       "      <td>2</td>\n",
       "      <td>...</td>\n",
       "      <td>2</td>\n",
       "      <td>2</td>\n",
       "      <td>1</td>\n",
       "      <td>2</td>\n",
       "      <td>2</td>\n",
       "      <td>2</td>\n",
       "      <td>2</td>\n",
       "      <td>2</td>\n",
       "      <td>3</td>\n",
       "      <td>97</td>\n",
       "    </tr>\n",
       "    <tr>\n",
       "      <th>1</th>\n",
       "      <td>2</td>\n",
       "      <td>1</td>\n",
       "      <td>2</td>\n",
       "      <td>1</td>\n",
       "      <td>03/06/2020</td>\n",
       "      <td>97</td>\n",
       "      <td>1</td>\n",
       "      <td>72</td>\n",
       "      <td>97</td>\n",
       "      <td>2</td>\n",
       "      <td>...</td>\n",
       "      <td>2</td>\n",
       "      <td>2</td>\n",
       "      <td>1</td>\n",
       "      <td>2</td>\n",
       "      <td>2</td>\n",
       "      <td>1</td>\n",
       "      <td>1</td>\n",
       "      <td>2</td>\n",
       "      <td>5</td>\n",
       "      <td>97</td>\n",
       "    </tr>\n",
       "    <tr>\n",
       "      <th>2</th>\n",
       "      <td>2</td>\n",
       "      <td>1</td>\n",
       "      <td>2</td>\n",
       "      <td>2</td>\n",
       "      <td>09/06/2020</td>\n",
       "      <td>1</td>\n",
       "      <td>2</td>\n",
       "      <td>55</td>\n",
       "      <td>97</td>\n",
       "      <td>1</td>\n",
       "      <td>...</td>\n",
       "      <td>2</td>\n",
       "      <td>2</td>\n",
       "      <td>2</td>\n",
       "      <td>2</td>\n",
       "      <td>2</td>\n",
       "      <td>2</td>\n",
       "      <td>2</td>\n",
       "      <td>2</td>\n",
       "      <td>3</td>\n",
       "      <td>2</td>\n",
       "    </tr>\n",
       "    <tr>\n",
       "      <th>3</th>\n",
       "      <td>2</td>\n",
       "      <td>1</td>\n",
       "      <td>1</td>\n",
       "      <td>1</td>\n",
       "      <td>12/06/2020</td>\n",
       "      <td>97</td>\n",
       "      <td>2</td>\n",
       "      <td>53</td>\n",
       "      <td>2</td>\n",
       "      <td>2</td>\n",
       "      <td>...</td>\n",
       "      <td>2</td>\n",
       "      <td>2</td>\n",
       "      <td>2</td>\n",
       "      <td>2</td>\n",
       "      <td>2</td>\n",
       "      <td>2</td>\n",
       "      <td>2</td>\n",
       "      <td>2</td>\n",
       "      <td>7</td>\n",
       "      <td>97</td>\n",
       "    </tr>\n",
       "    <tr>\n",
       "      <th>4</th>\n",
       "      <td>2</td>\n",
       "      <td>1</td>\n",
       "      <td>2</td>\n",
       "      <td>1</td>\n",
       "      <td>21/06/2020</td>\n",
       "      <td>97</td>\n",
       "      <td>2</td>\n",
       "      <td>68</td>\n",
       "      <td>97</td>\n",
       "      <td>1</td>\n",
       "      <td>...</td>\n",
       "      <td>2</td>\n",
       "      <td>2</td>\n",
       "      <td>1</td>\n",
       "      <td>2</td>\n",
       "      <td>2</td>\n",
       "      <td>2</td>\n",
       "      <td>2</td>\n",
       "      <td>2</td>\n",
       "      <td>3</td>\n",
       "      <td>97</td>\n",
       "    </tr>\n",
       "    <tr>\n",
       "      <th>...</th>\n",
       "      <td>...</td>\n",
       "      <td>...</td>\n",
       "      <td>...</td>\n",
       "      <td>...</td>\n",
       "      <td>...</td>\n",
       "      <td>...</td>\n",
       "      <td>...</td>\n",
       "      <td>...</td>\n",
       "      <td>...</td>\n",
       "      <td>...</td>\n",
       "      <td>...</td>\n",
       "      <td>...</td>\n",
       "      <td>...</td>\n",
       "      <td>...</td>\n",
       "      <td>...</td>\n",
       "      <td>...</td>\n",
       "      <td>...</td>\n",
       "      <td>...</td>\n",
       "      <td>...</td>\n",
       "      <td>...</td>\n",
       "      <td>...</td>\n",
       "    </tr>\n",
       "    <tr>\n",
       "      <th>1048570</th>\n",
       "      <td>2</td>\n",
       "      <td>13</td>\n",
       "      <td>2</td>\n",
       "      <td>1</td>\n",
       "      <td>9999-99-99</td>\n",
       "      <td>97</td>\n",
       "      <td>2</td>\n",
       "      <td>40</td>\n",
       "      <td>97</td>\n",
       "      <td>2</td>\n",
       "      <td>...</td>\n",
       "      <td>2</td>\n",
       "      <td>2</td>\n",
       "      <td>2</td>\n",
       "      <td>2</td>\n",
       "      <td>2</td>\n",
       "      <td>2</td>\n",
       "      <td>2</td>\n",
       "      <td>2</td>\n",
       "      <td>7</td>\n",
       "      <td>97</td>\n",
       "    </tr>\n",
       "    <tr>\n",
       "      <th>1048571</th>\n",
       "      <td>1</td>\n",
       "      <td>13</td>\n",
       "      <td>2</td>\n",
       "      <td>2</td>\n",
       "      <td>9999-99-99</td>\n",
       "      <td>2</td>\n",
       "      <td>2</td>\n",
       "      <td>51</td>\n",
       "      <td>97</td>\n",
       "      <td>2</td>\n",
       "      <td>...</td>\n",
       "      <td>2</td>\n",
       "      <td>2</td>\n",
       "      <td>1</td>\n",
       "      <td>2</td>\n",
       "      <td>2</td>\n",
       "      <td>2</td>\n",
       "      <td>2</td>\n",
       "      <td>2</td>\n",
       "      <td>7</td>\n",
       "      <td>2</td>\n",
       "    </tr>\n",
       "    <tr>\n",
       "      <th>1048572</th>\n",
       "      <td>2</td>\n",
       "      <td>13</td>\n",
       "      <td>2</td>\n",
       "      <td>1</td>\n",
       "      <td>9999-99-99</td>\n",
       "      <td>97</td>\n",
       "      <td>2</td>\n",
       "      <td>55</td>\n",
       "      <td>97</td>\n",
       "      <td>2</td>\n",
       "      <td>...</td>\n",
       "      <td>2</td>\n",
       "      <td>2</td>\n",
       "      <td>2</td>\n",
       "      <td>2</td>\n",
       "      <td>2</td>\n",
       "      <td>2</td>\n",
       "      <td>2</td>\n",
       "      <td>2</td>\n",
       "      <td>7</td>\n",
       "      <td>97</td>\n",
       "    </tr>\n",
       "    <tr>\n",
       "      <th>1048573</th>\n",
       "      <td>2</td>\n",
       "      <td>13</td>\n",
       "      <td>2</td>\n",
       "      <td>1</td>\n",
       "      <td>9999-99-99</td>\n",
       "      <td>97</td>\n",
       "      <td>2</td>\n",
       "      <td>28</td>\n",
       "      <td>97</td>\n",
       "      <td>2</td>\n",
       "      <td>...</td>\n",
       "      <td>2</td>\n",
       "      <td>2</td>\n",
       "      <td>2</td>\n",
       "      <td>2</td>\n",
       "      <td>2</td>\n",
       "      <td>2</td>\n",
       "      <td>2</td>\n",
       "      <td>2</td>\n",
       "      <td>7</td>\n",
       "      <td>97</td>\n",
       "    </tr>\n",
       "    <tr>\n",
       "      <th>1048574</th>\n",
       "      <td>2</td>\n",
       "      <td>13</td>\n",
       "      <td>2</td>\n",
       "      <td>1</td>\n",
       "      <td>9999-99-99</td>\n",
       "      <td>97</td>\n",
       "      <td>2</td>\n",
       "      <td>52</td>\n",
       "      <td>97</td>\n",
       "      <td>2</td>\n",
       "      <td>...</td>\n",
       "      <td>2</td>\n",
       "      <td>2</td>\n",
       "      <td>2</td>\n",
       "      <td>2</td>\n",
       "      <td>2</td>\n",
       "      <td>2</td>\n",
       "      <td>2</td>\n",
       "      <td>2</td>\n",
       "      <td>7</td>\n",
       "      <td>97</td>\n",
       "    </tr>\n",
       "  </tbody>\n",
       "</table>\n",
       "<p>1025152 rows × 21 columns</p>\n",
       "</div>"
      ],
      "text/plain": [
       "         USMER  MEDICAL_UNIT  SEX  PATIENT_TYPE   DATE_DIED  INTUBED  \\\n",
       "0            2             1    1             1  03/05/2020       97   \n",
       "1            2             1    2             1  03/06/2020       97   \n",
       "2            2             1    2             2  09/06/2020        1   \n",
       "3            2             1    1             1  12/06/2020       97   \n",
       "4            2             1    2             1  21/06/2020       97   \n",
       "...        ...           ...  ...           ...         ...      ...   \n",
       "1048570      2            13    2             1  9999-99-99       97   \n",
       "1048571      1            13    2             2  9999-99-99        2   \n",
       "1048572      2            13    2             1  9999-99-99       97   \n",
       "1048573      2            13    2             1  9999-99-99       97   \n",
       "1048574      2            13    2             1  9999-99-99       97   \n",
       "\n",
       "         PNEUMONIA  AGE  PREGNANT  DIABETES  ...  ASTHMA  INMSUPR  \\\n",
       "0                1   65         2         2  ...       2        2   \n",
       "1                1   72        97         2  ...       2        2   \n",
       "2                2   55        97         1  ...       2        2   \n",
       "3                2   53         2         2  ...       2        2   \n",
       "4                2   68        97         1  ...       2        2   \n",
       "...            ...  ...       ...       ...  ...     ...      ...   \n",
       "1048570          2   40        97         2  ...       2        2   \n",
       "1048571          2   51        97         2  ...       2        2   \n",
       "1048572          2   55        97         2  ...       2        2   \n",
       "1048573          2   28        97         2  ...       2        2   \n",
       "1048574          2   52        97         2  ...       2        2   \n",
       "\n",
       "         HIPERTENSION  OTHER_DISEASE  CARDIOVASCULAR  OBESITY  RENAL_CHRONIC  \\\n",
       "0                   1              2               2        2              2   \n",
       "1                   1              2               2        1              1   \n",
       "2                   2              2               2        2              2   \n",
       "3                   2              2               2        2              2   \n",
       "4                   1              2               2        2              2   \n",
       "...               ...            ...             ...      ...            ...   \n",
       "1048570             2              2               2        2              2   \n",
       "1048571             1              2               2        2              2   \n",
       "1048572             2              2               2        2              2   \n",
       "1048573             2              2               2        2              2   \n",
       "1048574             2              2               2        2              2   \n",
       "\n",
       "         TOBACCO  CLASIFFICATION_FINAL  ICU  \n",
       "0              2                     3   97  \n",
       "1              2                     5   97  \n",
       "2              2                     3    2  \n",
       "3              2                     7   97  \n",
       "4              2                     3   97  \n",
       "...          ...                   ...  ...  \n",
       "1048570        2                     7   97  \n",
       "1048571        2                     7    2  \n",
       "1048572        2                     7   97  \n",
       "1048573        2                     7   97  \n",
       "1048574        2                     7   97  \n",
       "\n",
       "[1025152 rows x 21 columns]"
      ]
     },
     "execution_count": 108,
     "metadata": {},
     "output_type": "execute_result"
    }
   ],
   "source": [
    "df"
   ]
  },
  {
   "cell_type": "code",
   "execution_count": 4,
   "metadata": {
    "scrolled": true
   },
   "outputs": [
    {
     "data": {
      "text/plain": [
       "<AxesSubplot:>"
      ]
     },
     "execution_count": 4,
     "metadata": {},
     "output_type": "execute_result"
    },
    {
     "data": {
      "image/png": "[encoded data removed]",
      "text/plain": [
       "<Figure size 1296x1080 with 2 Axes>"
      ]
     },
     "metadata": {
      "needs_background": "light"
     },
     "output_type": "display_data"
    }
   ],
   "source": [
    "plt.figure(figsize=(18,15))\n",
    "sns.heatmap(df.corr(),annot=True,cmap='viridis',fmt=\".2f\")"
   ]
  },
  {
   "cell_type": "code",
   "execution_count": 5,
   "metadata": {},
   "outputs": [
    {
     "data": {
      "image/png": "[encoded data removed]",
      "text/plain": [
       "<Figure size 432x288 with 1 Axes>"
      ]
     },
     "metadata": {
      "needs_background": "light"
     },
     "output_type": "display_data"
    }
   ],
   "source": [
    "df[\"DEATH\"] = [1 if each==\"9999-99-99\" else 2 for each in df.DATE_DIED]\n",
    "ax=sns.countplot(df.PNEUMONIA,hue=df.DEATH, palette=sns.color_palette([\"#7fffd4\",\"#a52a2a\"]))\n",
    "plt.title(\"Obesity-Death\",fontsize=18, color=\"black\")\n",
    "plt.bar_label(ax.containers[0])\n",
    "plt.legend(loc=\"best\");"
   ]
  },
  {
   "cell_type": "code",
   "execution_count": 6,
   "metadata": {
    "execution": {
     "iopub.execute_input": "2022-12-05T13:05:46.020305Z",
     "iopub.status.busy": "2022-12-05T13:05:46.020005Z",
     "iopub.status.idle": "2022-12-05T13:05:46.377813Z",
     "shell.execute_reply": "2022-12-05T13:05:46.376173Z",
     "shell.execute_reply.started": "2022-12-05T13:05:46.020270Z"
    }
   },
   "outputs": [
    {
     "data": {
      "image/png": "[encoded data removed]",
      "text/plain": [
       "<Figure size 576x360 with 1 Axes>"
      ]
     },
     "metadata": {
      "needs_background": "light"
     },
     "output_type": "display_data"
    }
   ],
   "source": [
    "plt.figure(figsize = (8,5))\n",
    "ax = sns.countplot(df.SEX, hue = df.PREGNANT)\n",
    "for bars in ax.containers:\n",
    "    ax.bar_label(bars)\n",
    "plt.title(\"PREGNANCIES - SEX\", fontsize = 20);"
   ]
  },
  {
   "cell_type": "markdown",
   "metadata": {},
   "source": [
    "**In pregnancies, 98 means null values for female and 97 means null values for males. We will convert 97 to 2 because men can't birth.**"
   ]
  },
  {
   "cell_type": "code",
   "execution_count": 7,
   "metadata": {
    "execution": {
     "iopub.execute_input": "2022-12-05T13:05:46.379772Z",
     "iopub.status.busy": "2022-12-05T13:05:46.379503Z",
     "iopub.status.idle": "2022-12-05T13:05:46.398612Z",
     "shell.execute_reply": "2022-12-05T13:05:46.397501Z",
     "shell.execute_reply.started": "2022-12-05T13:05:46.379742Z"
    }
   },
   "outputs": [],
   "source": [
    "df.PREGNANT = df.PREGNANT.replace({98:2,97:2})\n",
    "\n"
   ]
  },
  {
   "cell_type": "code",
   "execution_count": 8,
   "metadata": {
    "execution": {
     "iopub.execute_input": "2022-12-05T13:05:46.399912Z",
     "iopub.status.busy": "2022-12-05T13:05:46.399696Z",
     "iopub.status.idle": "2022-12-05T13:05:46.715495Z",
     "shell.execute_reply": "2022-12-05T13:05:46.714501Z",
     "shell.execute_reply.started": "2022-12-05T13:05:46.399886Z"
    },
    "scrolled": true
   },
   "outputs": [
    {
     "data": {
      "image/png": "[encoded data removed]",
      "text/plain": [
       "<Figure size 576x360 with 1 Axes>"
      ]
     },
     "metadata": {
      "needs_background": "light"
     },
     "output_type": "display_data"
    }
   ],
   "source": [
    "plt.figure(figsize = (8,5))\n",
    "ax = sns.countplot(df.PATIENT_TYPE, hue = df.INTUBED)\n",
    "for bars in ax.containers:\n",
    "    ax.bar_label(bars)\n",
    "plt.title(\"HOSPITALIZED - INTUBED\", fontsize = 20);"
   ]
  },
  {
   "cell_type": "markdown",
   "metadata": {},
   "source": [
    "**INTUBED Variable has so many null values. We delete it.**"
   ]
  },
  {
   "cell_type": "code",
   "execution_count": 9,
   "metadata": {
    "execution": {
     "iopub.execute_input": "2022-12-05T13:05:46.719229Z",
     "iopub.status.busy": "2022-12-05T13:05:46.718853Z",
     "iopub.status.idle": "2022-12-05T13:05:46.814311Z",
     "shell.execute_reply": "2022-12-05T13:05:46.812984Z",
     "shell.execute_reply.started": "2022-12-05T13:05:46.719198Z"
    }
   },
   "outputs": [],
   "source": [
    "df.drop(\"INTUBED\", axis = 1, inplace = True)\n",
    "df.drop(\"ICU\", axis = 1, inplace = True)"
   ]
  },
  {
   "cell_type": "code",
   "execution_count": 123,
   "metadata": {
    "execution": {
     "iopub.execute_input": "2022-12-05T13:05:46.815714Z",
     "iopub.status.busy": "2022-12-05T13:05:46.815443Z",
     "iopub.status.idle": "2022-12-05T13:05:46.832880Z",
     "shell.execute_reply": "2022-12-05T13:05:46.832085Z",
     "shell.execute_reply.started": "2022-12-05T13:05:46.815686Z"
    }
   },
   "outputs": [
    {
     "data": {
      "text/plain": [
       "7    490123\n",
       "3    378629\n",
       "6    117756\n",
       "5     25305\n",
       "1      8448\n",
       "4      3090\n",
       "2      1801\n",
       "Name: CLASIFFICATION_FINAL, dtype: int64"
      ]
     },
     "execution_count": 123,
     "metadata": {},
     "output_type": "execute_result"
    }
   ],
   "source": [
    "df.CLASIFFICATION_FINAL.value_counts()"
   ]
  },
  {
   "cell_type": "markdown",
   "metadata": {},
   "source": [
    "**1-2-3 means COVID and 4-5-6-7 means not COVID. "
   ]
  },
  {
   "cell_type": "code",
   "execution_count": 10,
   "metadata": {
    "execution": {
     "iopub.execute_input": "2022-12-05T13:05:46.834939Z",
     "iopub.status.busy": "2022-12-05T13:05:46.834107Z",
     "iopub.status.idle": "2022-12-05T13:05:46.859530Z",
     "shell.execute_reply": "2022-12-05T13:05:46.859034Z",
     "shell.execute_reply.started": "2022-12-05T13:05:46.834894Z"
    }
   },
   "outputs": [],
   "source": [
    "df.CLASIFFICATION_FINAL = df.CLASIFFICATION_FINAL.replace([1,2,3], 1)\n",
    "df.CLASIFFICATION_FINAL = df.CLASIFFICATION_FINAL.replace([4,5,6,7], 2)"
   ]
  },
  {
   "cell_type": "code",
   "execution_count": 10,
   "metadata": {
    "execution": {
     "iopub.execute_input": "2022-12-05T13:05:46.860674Z",
     "iopub.status.busy": "2022-12-05T13:05:46.860359Z",
     "iopub.status.idle": "2022-12-05T13:05:46.876855Z",
     "shell.execute_reply": "2022-12-05T13:05:46.875732Z",
     "shell.execute_reply.started": "2022-12-05T13:05:46.860616Z"
    }
   },
   "outputs": [
    {
     "data": {
      "text/plain": [
       "2    636274\n",
       "1    388878\n",
       "Name: CLASIFFICATION_FINAL, dtype: int64"
      ]
     },
     "execution_count": 10,
     "metadata": {},
     "output_type": "execute_result"
    }
   ],
   "source": [
    "df.CLASIFFICATION_FINAL.value_counts()"
   ]
  },
  {
   "cell_type": "code",
   "execution_count": 11,
   "metadata": {
    "execution": {
     "iopub.execute_input": "2022-12-05T13:05:46.878793Z",
     "iopub.status.busy": "2022-12-05T13:05:46.878285Z",
     "iopub.status.idle": "2022-12-05T13:05:47.065482Z",
     "shell.execute_reply": "2022-12-05T13:05:47.064818Z",
     "shell.execute_reply.started": "2022-12-05T13:05:46.878758Z"
    }
   },
   "outputs": [
    {
     "data": {
      "image/png": "[encoded data removed]",
      "text/plain": [
       "<Figure size 576x360 with 1 Axes>"
      ]
     },
     "metadata": {
      "needs_background": "light"
     },
     "output_type": "display_data"
    }
   ],
   "source": [
    "plt.figure(figsize = (8,5))\n",
    "ax = sns.countplot(df.CLASIFFICATION_FINAL)\n",
    "for bars in ax.containers:\n",
    "    ax.bar_label(bars)\n",
    "plt.title(\"COUNT OF COVID AND NOT COVIDS\", fontsize = 20);"
   ]
  },
  {
   "cell_type": "markdown",
   "metadata": {},
   "source": [
    "**We will make a variable that shows us die date. So if we do anything with these dates, it means they are dead numbers.**"
   ]
  },
  {
   "cell_type": "code",
   "execution_count": 12,
   "metadata": {
    "execution": {
     "iopub.execute_input": "2022-12-05T13:05:47.066917Z",
     "iopub.status.busy": "2022-12-05T13:05:47.066564Z",
     "iopub.status.idle": "2022-12-05T13:05:51.357105Z",
     "shell.execute_reply": "2022-12-05T13:05:51.356340Z",
     "shell.execute_reply.started": "2022-12-05T13:05:47.066883Z"
    }
   },
   "outputs": [],
   "source": [
    "df[\"MONTH\"],df[\"YEAR\"] = df.DATE_DIED.str.split(\"/\", expand = True)[1],df.DATE_DIED.str.split(\"/\", expand = True)[2]\n"
   ]
  },
  {
   "cell_type": "code",
   "execution_count": 130,
   "metadata": {
    "execution": {
     "iopub.execute_input": "2022-12-05T13:05:51.358531Z",
     "iopub.status.busy": "2022-12-05T13:05:51.358316Z",
     "iopub.status.idle": "2022-12-05T13:05:51.379545Z",
     "shell.execute_reply": "2022-12-05T13:05:51.378791Z",
     "shell.execute_reply.started": "2022-12-05T13:05:51.358506Z"
    }
   },
   "outputs": [
    {
     "data": {
      "text/html": [
       "<div>\n",
       "<style scoped>\n",
       "    .dataframe tbody tr th:only-of-type {\n",
       "        vertical-align: middle;\n",
       "    }\n",
       "\n",
       "    .dataframe tbody tr th {\n",
       "        vertical-align: top;\n",
       "    }\n",
       "\n",
       "    .dataframe thead th {\n",
       "        text-align: right;\n",
       "    }\n",
       "</style>\n",
       "<table border=\"1\" class=\"dataframe\">\n",
       "  <thead>\n",
       "    <tr style=\"text-align: right;\">\n",
       "      <th></th>\n",
       "      <th>USMER</th>\n",
       "      <th>MEDICAL_UNIT</th>\n",
       "      <th>SEX</th>\n",
       "      <th>PATIENT_TYPE</th>\n",
       "      <th>DATE_DIED</th>\n",
       "      <th>PNEUMONIA</th>\n",
       "      <th>AGE</th>\n",
       "      <th>PREGNANT</th>\n",
       "      <th>DIABETES</th>\n",
       "      <th>COPD</th>\n",
       "      <th>...</th>\n",
       "      <th>HIPERTENSION</th>\n",
       "      <th>OTHER_DISEASE</th>\n",
       "      <th>CARDIOVASCULAR</th>\n",
       "      <th>OBESITY</th>\n",
       "      <th>RENAL_CHRONIC</th>\n",
       "      <th>TOBACCO</th>\n",
       "      <th>CLASIFFICATION_FINAL</th>\n",
       "      <th>DEATH</th>\n",
       "      <th>MONTH</th>\n",
       "      <th>YEAR</th>\n",
       "    </tr>\n",
       "  </thead>\n",
       "  <tbody>\n",
       "    <tr>\n",
       "      <th>0</th>\n",
       "      <td>2</td>\n",
       "      <td>1</td>\n",
       "      <td>1</td>\n",
       "      <td>1</td>\n",
       "      <td>03/05/2020</td>\n",
       "      <td>1</td>\n",
       "      <td>65</td>\n",
       "      <td>2</td>\n",
       "      <td>2</td>\n",
       "      <td>2</td>\n",
       "      <td>...</td>\n",
       "      <td>1</td>\n",
       "      <td>2</td>\n",
       "      <td>2</td>\n",
       "      <td>2</td>\n",
       "      <td>2</td>\n",
       "      <td>2</td>\n",
       "      <td>1</td>\n",
       "      <td>1</td>\n",
       "      <td>05</td>\n",
       "      <td>2020</td>\n",
       "    </tr>\n",
       "    <tr>\n",
       "      <th>1</th>\n",
       "      <td>2</td>\n",
       "      <td>1</td>\n",
       "      <td>2</td>\n",
       "      <td>1</td>\n",
       "      <td>03/06/2020</td>\n",
       "      <td>1</td>\n",
       "      <td>72</td>\n",
       "      <td>2</td>\n",
       "      <td>2</td>\n",
       "      <td>2</td>\n",
       "      <td>...</td>\n",
       "      <td>1</td>\n",
       "      <td>2</td>\n",
       "      <td>2</td>\n",
       "      <td>1</td>\n",
       "      <td>1</td>\n",
       "      <td>2</td>\n",
       "      <td>2</td>\n",
       "      <td>1</td>\n",
       "      <td>06</td>\n",
       "      <td>2020</td>\n",
       "    </tr>\n",
       "    <tr>\n",
       "      <th>2</th>\n",
       "      <td>2</td>\n",
       "      <td>1</td>\n",
       "      <td>2</td>\n",
       "      <td>2</td>\n",
       "      <td>09/06/2020</td>\n",
       "      <td>2</td>\n",
       "      <td>55</td>\n",
       "      <td>2</td>\n",
       "      <td>1</td>\n",
       "      <td>2</td>\n",
       "      <td>...</td>\n",
       "      <td>2</td>\n",
       "      <td>2</td>\n",
       "      <td>2</td>\n",
       "      <td>2</td>\n",
       "      <td>2</td>\n",
       "      <td>2</td>\n",
       "      <td>1</td>\n",
       "      <td>1</td>\n",
       "      <td>06</td>\n",
       "      <td>2020</td>\n",
       "    </tr>\n",
       "    <tr>\n",
       "      <th>3</th>\n",
       "      <td>2</td>\n",
       "      <td>1</td>\n",
       "      <td>1</td>\n",
       "      <td>1</td>\n",
       "      <td>12/06/2020</td>\n",
       "      <td>2</td>\n",
       "      <td>53</td>\n",
       "      <td>2</td>\n",
       "      <td>2</td>\n",
       "      <td>2</td>\n",
       "      <td>...</td>\n",
       "      <td>2</td>\n",
       "      <td>2</td>\n",
       "      <td>2</td>\n",
       "      <td>2</td>\n",
       "      <td>2</td>\n",
       "      <td>2</td>\n",
       "      <td>2</td>\n",
       "      <td>1</td>\n",
       "      <td>06</td>\n",
       "      <td>2020</td>\n",
       "    </tr>\n",
       "    <tr>\n",
       "      <th>4</th>\n",
       "      <td>2</td>\n",
       "      <td>1</td>\n",
       "      <td>2</td>\n",
       "      <td>1</td>\n",
       "      <td>21/06/2020</td>\n",
       "      <td>2</td>\n",
       "      <td>68</td>\n",
       "      <td>2</td>\n",
       "      <td>1</td>\n",
       "      <td>2</td>\n",
       "      <td>...</td>\n",
       "      <td>1</td>\n",
       "      <td>2</td>\n",
       "      <td>2</td>\n",
       "      <td>2</td>\n",
       "      <td>2</td>\n",
       "      <td>2</td>\n",
       "      <td>1</td>\n",
       "      <td>1</td>\n",
       "      <td>06</td>\n",
       "      <td>2020</td>\n",
       "    </tr>\n",
       "  </tbody>\n",
       "</table>\n",
       "<p>5 rows × 22 columns</p>\n",
       "</div>"
      ],
      "text/plain": [
       "   USMER  MEDICAL_UNIT  SEX  PATIENT_TYPE   DATE_DIED  PNEUMONIA  AGE  \\\n",
       "0      2             1    1             1  03/05/2020          1   65   \n",
       "1      2             1    2             1  03/06/2020          1   72   \n",
       "2      2             1    2             2  09/06/2020          2   55   \n",
       "3      2             1    1             1  12/06/2020          2   53   \n",
       "4      2             1    2             1  21/06/2020          2   68   \n",
       "\n",
       "   PREGNANT  DIABETES  COPD  ...  HIPERTENSION  OTHER_DISEASE  CARDIOVASCULAR  \\\n",
       "0         2         2     2  ...             1              2               2   \n",
       "1         2         2     2  ...             1              2               2   \n",
       "2         2         1     2  ...             2              2               2   \n",
       "3         2         2     2  ...             2              2               2   \n",
       "4         2         1     2  ...             1              2               2   \n",
       "\n",
       "   OBESITY  RENAL_CHRONIC  TOBACCO  CLASIFFICATION_FINAL  DEATH  MONTH  YEAR  \n",
       "0        2              2        2                     1      1     05  2020  \n",
       "1        1              1        2                     2      1     06  2020  \n",
       "2        2              2        2                     1      1     06  2020  \n",
       "3        2              2        2                     2      1     06  2020  \n",
       "4        2              2        2                     1      1     06  2020  \n",
       "\n",
       "[5 rows x 22 columns]"
      ]
     },
     "execution_count": 130,
     "metadata": {},
     "output_type": "execute_result"
    }
   ],
   "source": [
    "df.head()"
   ]
  },
  {
   "cell_type": "code",
   "execution_count": 131,
   "metadata": {
    "execution": {
     "iopub.execute_input": "2022-12-05T13:05:51.381194Z",
     "iopub.status.busy": "2022-12-05T13:05:51.380820Z",
     "iopub.status.idle": "2022-12-05T13:05:51.405002Z",
     "shell.execute_reply": "2022-12-05T13:05:51.404055Z",
     "shell.execute_reply.started": "2022-12-05T13:05:51.381167Z"
    }
   },
   "outputs": [
    {
     "data": {
      "text/plain": [
       "2020    74402\n",
       "2021      312\n",
       "Name: YEAR, dtype: int64"
      ]
     },
     "execution_count": 131,
     "metadata": {},
     "output_type": "execute_result"
    }
   ],
   "source": [
    "df.YEAR.value_counts()"
   ]
  },
  {
   "cell_type": "code",
   "execution_count": 13,
   "metadata": {
    "execution": {
     "iopub.execute_input": "2022-12-05T13:05:51.408322Z",
     "iopub.status.busy": "2022-12-05T13:05:51.407635Z",
     "iopub.status.idle": "2022-12-05T13:05:52.014750Z",
     "shell.execute_reply": "2022-12-05T13:05:52.013868Z",
     "shell.execute_reply.started": "2022-12-05T13:05:51.408287Z"
    }
   },
   "outputs": [
    {
     "data": {
      "image/png": "[encoded data removed]",
      "text/plain": [
       "<Figure size 576x360 with 1 Axes>"
      ]
     },
     "metadata": {
      "needs_background": "light"
     },
     "output_type": "display_data"
    }
   ],
   "source": [
    "plt.figure(figsize = (8,5))\n",
    "ax = sns.countplot(x = \"YEAR\", hue = \"PATIENT_TYPE\", data = df)\n",
    "plt.title(\"DEAD NUMBERS OF COVID BY YEAR\", fontsize = 20)\n",
    "for bars in ax.containers:\n",
    "    ax.bar_label(bars)"
   ]
  },
  {
   "cell_type": "code",
   "execution_count": 14,
   "metadata": {
    "execution": {
     "iopub.execute_input": "2022-12-05T13:05:52.016364Z",
     "iopub.status.busy": "2022-12-05T13:05:52.016173Z",
     "iopub.status.idle": "2022-12-05T13:05:52.763868Z",
     "shell.execute_reply": "2022-12-05T13:05:52.762838Z",
     "shell.execute_reply.started": "2022-12-05T13:05:52.016340Z"
    },
    "scrolled": true
   },
   "outputs": [
    {
     "data": {
      "image/png": "[encoded data removed]",
      "text/plain": [
       "<Figure size 576x360 with 1 Axes>"
      ]
     },
     "metadata": {
      "needs_background": "light"
     },
     "output_type": "display_data"
    }
   ],
   "source": [
    "plt.figure(figsize = (8,5))\n",
    "ax = sns.countplot(x = \"MONTH\", hue = \"PATIENT_TYPE\", data = df)\n",
    "plt.title(\"DEAD NUMBERS OF COVID BY MONTH\", fontsize = 20)\n",
    "for bars in ax.containers:\n",
    "    ax.bar_label(bars)"
   ]
  },
  {
   "cell_type": "code",
   "execution_count": null,
   "metadata": {},
   "outputs": [],
   "source": [
    "df.drop([\"DATE_DIED\", \"MONTH\", \"YEAR\"], axis = 1, inplace = True)"
   ]
  },
  {
   "cell_type": "code",
   "execution_count": 33,
   "metadata": {},
   "outputs": [],
   "source": [
    "from sklearn.metrics import mean_squared_error\n",
    "from sklearn.model_selection import train_test_split\n",
    "\n",
    "def plot_learning_curves(model, X, y):\n",
    "    X_train, X_val, y_train, y_val = train_test_split(X, y, test_size=0.2, random_state=2)\n",
    "    train_errors, val_errors = [], []\n",
    "    for m in range(2, len(X_train)):\n",
    "        model.fit(X_train[:m], y_train[:m])\n",
    "        y_train_predict = model.predict(X_train[:m])\n",
    "        y_val_predict = model.predict(X_val)\n",
    "        train_errors.append(mean_squared_error(y_train_predict, y_train[:m]))\n",
    "        val_errors.append(mean_squared_error(y_val_predict, y_val))\n",
    "    plt.plot(np.sqrt(train_errors), \"r-+\", linewidth=2, label=\"train\")\n",
    "    plt.plot(np.sqrt(val_errors), \"b-\", linewidth=3, label=\"val\")\n",
    "    plt.legend()\n",
    "    plt.show()"
   ]
  },
  {
   "cell_type": "code",
   "execution_count": 18,
   "metadata": {
    "execution": {
     "iopub.execute_input": "2022-12-05T13:05:52.841480Z",
     "iopub.status.busy": "2022-12-05T13:05:52.841268Z",
     "iopub.status.idle": "2022-12-05T13:05:52.849121Z",
     "shell.execute_reply": "2022-12-05T13:05:52.848036Z",
     "shell.execute_reply.started": "2022-12-05T13:05:52.841450Z"
    }
   },
   "outputs": [],
   "source": [
    "df[\"CLASIFFICATION_FINAL\"] = df[\"CLASIFFICATION_FINAL\"] - 1\n",
    "\n"
   ]
  },
  {
   "cell_type": "code",
   "execution_count": 19,
   "metadata": {
    "execution": {
     "iopub.execute_input": "2022-12-05T13:05:52.851418Z",
     "iopub.status.busy": "2022-12-05T13:05:52.850791Z",
     "iopub.status.idle": "2022-12-05T13:05:52.887872Z",
     "shell.execute_reply": "2022-12-05T13:05:52.886891Z",
     "shell.execute_reply.started": "2022-12-05T13:05:52.851383Z"
    }
   },
   "outputs": [],
   "source": [
    "x = df.drop(\"CLASIFFICATION_FINAL\", axis = 1)\n",
    "y = df[\"CLASIFFICATION_FINAL\"]\n"
   ]
  },
  {
   "cell_type": "code",
   "execution_count": null,
   "metadata": {},
   "outputs": [],
   "source": [
    "from sklearn.model_selection import train_test_split\n",
    "from sklearn.metrics import accuracy_score, roc_curve, roc_auc_score, confusion_matrix, classification_report, plot_confusion_matrix\n",
    "x_train,x_test,y_train,y_test = train_test_split(x, y, test_size = 0.3, random_state = 0)\n"
   ]
  },
  {
   "cell_type": "code",
   "execution_count": 18,
   "metadata": {
    "scrolled": true
   },
   "outputs": [
    {
     "name": "stdout",
     "output_type": "stream",
     "text": [
      "\n",
      "Note: you may need to restart the kernel to use updated packages.\n"
     ]
    },
    {
     "name": "stderr",
     "output_type": "stream",
     "text": [
      "usage: conda-script.py [-h] [-V] command ...\n",
      "conda-script.py: error: unrecognized arguments: scikit-learn\n"
     ]
    }
   ],
   "source": [
    "conda update -c conda-forge scikit-learn"
   ]
  },
  {
   "cell_type": "code",
   "execution_count": 25,
   "metadata": {
    "scrolled": true
   },
   "outputs": [
    {
     "data": {
      "text/plain": [
       "<AxesSubplot:xlabel='CLASIFFICATION_FINAL', ylabel='count'>"
      ]
     },
     "execution_count": 25,
     "metadata": {},
     "output_type": "execute_result"
    },
    {
     "data": {
      "image/png": "[encoded data removed]",
      "text/plain": [
       "<Figure size 432x288 with 1 Axes>"
      ]
     },
     "metadata": {
      "needs_background": "light"
     },
     "output_type": "display_data"
    }
   ],
   "source": [
    "sns.countplot(y_test)"
   ]
  },
  {
   "cell_type": "code",
   "execution_count": 26,
   "metadata": {},
   "outputs": [
    {
     "data": {
      "text/plain": [
       "<AxesSubplot:xlabel='CLASIFFICATION_FINAL', ylabel='count'>"
      ]
     },
     "execution_count": 26,
     "metadata": {},
     "output_type": "execute_result"
    },
    {
     "data": {
      "image/png": "[encoded data removed]",
      "text/plain": [
       "<Figure size 432x288 with 1 Axes>"
      ]
     },
     "metadata": {
      "needs_background": "light"
     },
     "output_type": "display_data"
    }
   ],
   "source": [
    "sns.countplot(y_train)"
   ]
  },
  {
   "cell_type": "code",
   "execution_count": 18,
   "metadata": {},
   "outputs": [
    {
     "name": "stdout",
     "output_type": "stream",
     "text": [
      "0.6127300090718881 0.6105167480222184\n"
     ]
    }
   ],
   "source": [
    "a = y_train.value_counts()[1]\n",
    "b =  y_train.value_counts()[0]\n",
    "c = y_test.value_counts()[1]\n",
    "d =  y_test.value_counts()[0]\n",
    "print(d/c,b/a)"
   ]
  },
  {
   "cell_type": "code",
   "execution_count": 22,
   "metadata": {},
   "outputs": [
    {
     "data": {
      "text/plain": [
       "(6000, 18)"
      ]
     },
     "execution_count": 22,
     "metadata": {},
     "output_type": "execute_result"
    }
   ],
   "source": [
    "af =  df.copy()\n",
    "af = af.iloc[:20000,:]\n",
    "x1 = af.drop(\"CLASIFFICATION_FINAL\", axis = 1)\n",
    "y1 = af[\"CLASIFFICATION_FINAL\"]\n",
    "x_train1,x_test1,y_train1,y_test1 = train_test_split(x1, y1, test_size = 0.3, random_state = 0)\n",
    "x_test1.shape"
   ]
  },
  {
   "cell_type": "code",
   "execution_count": 23,
   "metadata": {},
   "outputs": [
    {
     "name": "stdout",
     "output_type": "stream",
     "text": [
      "Logistic regreession's Accuracy is 0.6168333333333333\n",
      "Logistic regreession's AUC score is 0.619368376721318\n",
      "Logistic regreession softmax's Accuracy is 0.6181666666666666\n",
      "Logistic regreession softmax's AUC score is 0.6219946284157469\n"
     ]
    }
   ],
   "source": [
    "from sklearn.linear_model import LogisticRegression\n",
    "log_reg = LogisticRegression()\n",
    "log_reg.fit(x_train1, y_train1)\n",
    "pred_log = log_reg.predict(x_test1)\n",
    "print(\"Logistic regreession's Accuracy is \"+str(accuracy_score(pred_log, y_test1)))\n",
    "print(\"Logistic regreession's AUC score is \"+str(roc_auc_score(pred_log, y_test1)))\n",
    "# NOW TRY SOFTMAX LOGSITIC REGRESSION\n",
    "softmax_reg = LogisticRegression(multi_class=\"multinomial\",solver=\"lbfgs\", C=30)\n",
    "softmax_reg.fit(x_train1, y_train1)\n",
    "pred_log1 = softmax_reg.predict(x_test1)\n",
    "print(\"Logistic regreession softmax's Accuracy is \"+str(accuracy_score(pred_log1, y_test1)))\n",
    "print(\"Logistic regreession softmax's AUC score is \"+str(roc_auc_score(pred_log1, y_test1)))\n"
   ]
  },
  {
   "cell_type": "code",
   "execution_count": 41,
   "metadata": {},
   "outputs": [
    {
     "data": {
      "image/png": "[encoded data removed]",
      "text/plain": [
       "<Figure size 432x288 with 1 Axes>"
      ]
     },
     "metadata": {
      "needs_background": "light"
     },
     "output_type": "display_data"
    }
   ],
   "source": [
    "plot_learning_curves(LogisticRegression(), x_train1, y_train1)\n"
   ]
  },
  {
   "cell_type": "code",
   "execution_count": 24,
   "metadata": {},
   "outputs": [
    {
     "name": "stdout",
     "output_type": "stream",
     "text": [
      "svc's Accuracy is 0.6091666666666666\n",
      "svc's AUC score is 0.6270109729604934\n"
     ]
    }
   ],
   "source": [
    "from sklearn.svm import SVC\n",
    "svc = SVC()\n",
    "svc.fit(x_train1, y_train1)\n",
    "pred_svc =  svc.predict(x_test1)\n",
    "print(\"svc's Accuracy is \"+str(accuracy_score(pred_svc, y_test1)))\n",
    "print(\"svc's AUC score is \"+str(roc_auc_score(pred_svc, y_test1)))\n"
   ]
  },
  {
   "cell_type": "code",
   "execution_count": 74,
   "metadata": {},
   "outputs": [
    {
     "name": "stdout",
     "output_type": "stream",
     "text": [
      "Fitting 5 folds for each of 9 candidates, totalling 45 fits\n",
      "[CV] END .......................C=0.1, gamma=0.1, kernel=rbf; total time=  12.4s\n",
      "[CV] END .......................C=0.1, gamma=0.1, kernel=rbf; total time=  11.0s\n",
      "[CV] END .......................C=0.1, gamma=0.1, kernel=rbf; total time=  14.2s\n",
      "[CV] END .......................C=0.1, gamma=0.1, kernel=rbf; total time=  12.3s\n",
      "[CV] END .......................C=0.1, gamma=0.1, kernel=rbf; total time=  11.9s\n",
      "[CV] END ......................C=0.1, gamma=0.01, kernel=rbf; total time=  11.9s\n",
      "[CV] END ......................C=0.1, gamma=0.01, kernel=rbf; total time=  11.0s\n",
      "[CV] END ......................C=0.1, gamma=0.01, kernel=rbf; total time=  11.3s\n",
      "[CV] END ......................C=0.1, gamma=0.01, kernel=rbf; total time=  11.1s\n",
      "[CV] END ......................C=0.1, gamma=0.01, kernel=rbf; total time=  10.9s\n",
      "[CV] END ......................C=0.1, gamma=0.01, kernel=rbf; total time=  10.9s\n",
      "[CV] END ......................C=0.1, gamma=0.01, kernel=rbf; total time=  11.0s\n",
      "[CV] END ......................C=0.1, gamma=0.01, kernel=rbf; total time=  10.7s\n",
      "[CV] END ......................C=0.1, gamma=0.01, kernel=rbf; total time=  10.7s\n",
      "[CV] END ......................C=0.1, gamma=0.01, kernel=rbf; total time=  10.6s\n",
      "[CV] END .........................C=1, gamma=0.1, kernel=rbf; total time=  13.8s\n",
      "[CV] END .........................C=1, gamma=0.1, kernel=rbf; total time=  12.8s\n",
      "[CV] END .........................C=1, gamma=0.1, kernel=rbf; total time=  15.6s\n",
      "[CV] END .........................C=1, gamma=0.1, kernel=rbf; total time=  21.5s\n",
      "[CV] END .........................C=1, gamma=0.1, kernel=rbf; total time=  20.6s\n",
      "[CV] END ........................C=1, gamma=0.01, kernel=rbf; total time=  19.9s\n",
      "[CV] END ........................C=1, gamma=0.01, kernel=rbf; total time=  17.7s\n",
      "[CV] END ........................C=1, gamma=0.01, kernel=rbf; total time=  11.2s\n",
      "[CV] END ........................C=1, gamma=0.01, kernel=rbf; total time=  11.1s\n",
      "[CV] END ........................C=1, gamma=0.01, kernel=rbf; total time=  13.6s\n",
      "[CV] END ........................C=1, gamma=0.01, kernel=rbf; total time=  13.9s\n",
      "[CV] END ........................C=1, gamma=0.01, kernel=rbf; total time=  11.3s\n",
      "[CV] END ........................C=1, gamma=0.01, kernel=rbf; total time=  11.2s\n",
      "[CV] END ........................C=1, gamma=0.01, kernel=rbf; total time=  11.1s\n",
      "[CV] END ........................C=1, gamma=0.01, kernel=rbf; total time=  10.5s\n",
      "[CV] END ........................C=10, gamma=0.1, kernel=rbf; total time=  29.5s\n",
      "[CV] END ........................C=10, gamma=0.1, kernel=rbf; total time=  20.2s\n",
      "[CV] END ........................C=10, gamma=0.1, kernel=rbf; total time=  29.8s\n",
      "[CV] END ........................C=10, gamma=0.1, kernel=rbf; total time=  40.9s\n",
      "[CV] END ........................C=10, gamma=0.1, kernel=rbf; total time=  36.7s\n",
      "[CV] END .......................C=10, gamma=0.01, kernel=rbf; total time=  19.3s\n",
      "[CV] END .......................C=10, gamma=0.01, kernel=rbf; total time=  22.5s\n",
      "[CV] END .......................C=10, gamma=0.01, kernel=rbf; total time=  21.6s\n",
      "[CV] END .......................C=10, gamma=0.01, kernel=rbf; total time=  20.5s\n",
      "[CV] END .......................C=10, gamma=0.01, kernel=rbf; total time=  22.8s\n",
      "[CV] END .......................C=10, gamma=0.01, kernel=rbf; total time=  19.3s\n",
      "[CV] END .......................C=10, gamma=0.01, kernel=rbf; total time=  23.6s\n",
      "[CV] END .......................C=10, gamma=0.01, kernel=rbf; total time=  18.4s\n",
      "[CV] END .......................C=10, gamma=0.01, kernel=rbf; total time=  22.9s\n",
      "[CV] END .......................C=10, gamma=0.01, kernel=rbf; total time=  27.8s\n",
      "SVC(C=10, gamma=0.1)\n"
     ]
    }
   ],
   "source": [
    "param_grid = {'C': [0.1,1,10], 'gamma': [0.1,0.01,0.01],'kernel': [ 'rbf']}\n",
    "grid = GridSearchCV(svc,param_grid,refit=True,verbose=2)\n",
    "grid.fit(x_train1,y_train1)\n",
    "print(grid.best_estimator_)"
   ]
  },
  {
   "cell_type": "code",
   "execution_count": 75,
   "metadata": {},
   "outputs": [
    {
     "name": "stdout",
     "output_type": "stream",
     "text": [
      "best of sv's Accuracy is 0.6151666666666666\n",
      "best of svm's AUC score is 0.6274520847699397\n"
     ]
    }
   ],
   "source": [
    "from sklearn.svm import SVC\n",
    "svc = SVC(C=1, gamma=0.1, kernel='rbf')\n",
    "svc.fit(x_train1, y_train1)\n",
    "pred_svc =  svc.predict(x_test1)\n",
    "print(\"best of sv's Accuracy is \"+str(accuracy_score(pred_svc, y_test1)))\n",
    "print(\"best of svm's AUC score is \"+str(roc_auc_score(pred_svc, y_test1)))\n"
   ]
  },
  {
   "cell_type": "code",
   "execution_count": null,
   "metadata": {},
   "outputs": [],
   "source": [
    "plot_learning_curves(SVC(C=1, gamma=0.1, kernel='rbf'), x_train1, y_train1)\n"
   ]
  },
  {
   "cell_type": "code",
   "execution_count": 143,
   "metadata": {
    "scrolled": true
   },
   "outputs": [
    {
     "name": "stdout",
     "output_type": "stream",
     "text": [
      "0.6081666666666666\n",
      "0.5938333333333333\n",
      "0.6128333333333333\n"
     ]
    },
    {
     "data": {
      "image/png": "[encoded data removed]",
      "text/plain": [
       "<Figure size 432x288 with 1 Axes>"
      ]
     },
     "metadata": {
      "needs_background": "light"
     },
     "output_type": "display_data"
    }
   ],
   "source": [
    "from sklearn.metrics import f1_score\n",
    "from sklearn.svm import SVC\n",
    "kernels = [\"linear\", \"poly\", \"rbf\"]\n",
    "svm_fmeasures = {}\n",
    "svm_best_result = 0\n",
    "for kernel in kernels:\n",
    "    # create a SVM classifier instance and compute the prediction\n",
    "    svm_classifier = SVC(kernel=kernel,degree = 8, class_weight='balanced')\n",
    "    svm_classifier.fit(x_train1, y_train1)\n",
    "    y_pred = svm_classifier.predict(x_test1)\n",
    "    print(accuracy_score(y_pred,y_test1))\n",
    "\n",
    "    # calculate F-measures and save best model\n",
    "    svm_fmeasures[kernel] = accuracy_score(y_pred, y_test1)\n",
    "    if svm_fmeasures[kernel] > svm_best_result:\n",
    "        svm_best_result = svm_fmeasures[kernel]\n",
    "        svm_best_model = svm_classifier\n",
    "\n",
    "\n",
    "plt.bar(svm_fmeasures.keys(), svm_fmeasures.values(), color=['blue', 'orange', 'green', 'red'], width=.6)\n",
    "plt.title('SVM kernels comparison - undersampling')\n",
    "plt.xlabel('kernels')\n",
    "plt.ylabel('Accuray')\n",
    "plt.ylim(0.5, 0.65)\n",
    "plt.show()"
   ]
  },
  {
   "cell_type": "code",
   "execution_count": 14,
   "metadata": {},
   "outputs": [
    {
     "name": "stdout",
     "output_type": "stream",
     "text": [
      "Logistic regreession softmax's Accuracy is 0.6096666666666667\n"
     ]
    }
   ],
   "source": [
    "from sklearn.ensemble import RandomForestClassifier\n",
    "rnd_clf = RandomForestClassifier(max_depth=2, random_state=5)\n",
    "rnd_clf.fit(x_train1, y_train1)\n",
    "pred_rand_tree =  rnd_clf.predict(x_test1)\n",
    "print(\"random forest's Accuracy is \"+str(accuracy_score(pred_rand_tree, y_test1)))\n",
    "print(\"random forest's AUC score is \"+str(roc_auc_score(pred_rand_tree, y_test1)))\n"
   ]
  },
  {
   "cell_type": "code",
   "execution_count": 18,
   "metadata": {
    "scrolled": true
   },
   "outputs": [
    {
     "name": "stdout",
     "output_type": "stream",
     "text": [
      "Logistic regreession softmax's Accuracy is 0.6168333333333333\n"
     ]
    }
   ],
   "source": [
    "from sklearn.tree import DecisionTreeClassifier\n",
    "tree_clf = DecisionTreeClassifier(max_depth=2)\n",
    "tree_clf.fit(x_train1, y_train1)\n",
    "pred_tree =  tree_clf.predict(x_test1)\n",
    "print(\"Decision tree's Accuracy is \"+str(accuracy_score(pred_tree, y_test1)))\n",
    "print(\"Decision tree's AUC score is \"+str(roc_auc_score(pred_tree, y_test1)))\n"
   ]
  },
  {
   "cell_type": "code",
   "execution_count": 82,
   "metadata": {},
   "outputs": [
    {
     "name": "stdout",
     "output_type": "stream",
     "text": [
      "KNN's Accuracy is 0.5983333333333334\n",
      "KNN's AUC score is 0.6008765738232588\n"
     ]
    }
   ],
   "source": [
    "from sklearn.neighbors import KNeighborsClassifier\n",
    "kneigh = KNeighborsClassifier(n_neighbors=200)\n",
    "kneigh.fit(x_train1, y_train1)\n",
    "pred_tree =  kneigh.predict(x_test1)\n",
    "print(\"KNN's Accuracy is \"+str(accuracy_score(pred_tree, y_test1)))\n",
    "print(\"KNN's AUC score is \"+str(roc_auc_score(pred_tree, y_test1)))"
   ]
  },
  {
   "cell_type": "code",
   "execution_count": 20,
   "metadata": {},
   "outputs": [
    {
     "data": {
      "text/plain": [
       "{'max_depth': 6, 'max_features': 0.5, 'n_estimators': 50}"
      ]
     },
     "execution_count": 20,
     "metadata": {},
     "output_type": "execute_result"
    }
   ],
   "source": [
    "from sklearn.model_selection import GridSearchCV\n",
    "\n",
    "\n",
    "grid_values = {'n_estimators': [10, 30, 50, 100],\n",
    "               'max_features': ['sqrt', 0.25, 0.5, 0.75, 1.0],\n",
    "               'max_depth' : [4,5,6,7,8],\n",
    "              }\n",
    "grid_search_rfc = GridSearchCV(rnd_clf, param_grid = grid_values, scoring = 'accuracy')\n",
    "grid_search_rfc.fit(x_train1, y_train1)\n",
    "grid_search_rfc.best_params_"
   ]
  },
  {
   "cell_type": "code",
   "execution_count": 26,
   "metadata": {},
   "outputs": [
    {
     "name": "stdout",
     "output_type": "stream",
     "text": [
      "random forest's Accuracy is 0.6361666666666667\n",
      "random forest's is 0.6427252063326122\n"
     ]
    }
   ],
   "source": [
    "from sklearn.ensemble import RandomForestClassifier\n",
    "rnd_clf = RandomForestClassifier(max_depth=6, random_state=5,n_estimators = 50, max_features = 0.5)\n",
    "rnd_clf.fit(x_train1, y_train1)\n",
    "pred_rand_tree =  rnd_clf.predict(x_test1)\n",
    "print(\"random forest's Accuracy is \"+str(accuracy_score(pred_rand_tree, y_test1)))\n",
    "print(\"random forest's is \"+str(roc_auc_score(pred_rand_tree, y_test1)))b"
   ]
  },
  {
   "cell_type": "code",
   "execution_count": 36,
   "metadata": {},
   "outputs": [
    {
     "name": "stdout",
     "output_type": "stream",
     "text": [
      "Fitting 3 folds for each of 294 candidates, totalling 882 fits\n"
     ]
    },
    {
     "data": {
      "text/plain": [
       "{'max_leaf_nodes': 70, 'min_samples_split': 2}"
      ]
     },
     "execution_count": 36,
     "metadata": {},
     "output_type": "execute_result"
    }
   ],
   "source": [
    "from sklearn.tree import DecisionTreeClassifier\n",
    "from sklearn.model_selection import GridSearchCV\n",
    "params = {'max_leaf_nodes': list(range(2, 100)), 'min_samples_split': [2, 3, 4]}\n",
    "grid_search_cv = GridSearchCV(tree_clf, params, verbose=1, cv=3)\n",
    "grid_search_cv.fit(x_train1, y_train1)\n",
    "grid_search_cv.best_params_"
   ]
  },
  {
   "cell_type": "code",
   "execution_count": 35,
   "metadata": {},
   "outputs": [
    {
     "name": "stdout",
     "output_type": "stream",
     "text": [
      "Decision tree's Accuracy is 0.6268333333333334\n",
      "Decision tree's AUC score is 0.6265572708789839\n"
     ]
    }
   ],
   "source": [
    "from sklearn.tree import DecisionTreeClassifier\n",
    "tree_clf = DecisionTreeClassifier(max_leaf_nodes=70,min_samples_split = 2)\n",
    "tree_clf.fit(x_train1, y_train1)\n",
    "pred_tree =  tree_clf.predict(x_test1)\n",
    "print(\"Decision tree's Accuracy is \"+str(accuracy_score(pred_tree, y_test1)))\n",
    "print(\"Decision tree's AUC score is \"+str(roc_auc_score(pred_tree, y_test1)))\n"
   ]
  },
  {
   "cell_type": "code",
   "execution_count": 42,
   "metadata": {},
   "outputs": [
    {
     "data": {
      "image/png": "[encoded data removed]",
      "text/plain": [
       "<Figure size 432x288 with 1 Axes>"
      ]
     },
     "metadata": {
      "needs_background": "light"
     },
     "output_type": "display_data"
    }
   ],
   "source": [
    "plot_learning_curves(DecisionTreeClassifier(max_leaf_nodes=70,min_samples_split = 2), x_train1, y_train1)"
   ]
  },
  {
   "cell_type": "code",
   "execution_count": 35,
   "metadata": {},
   "outputs": [
    {
     "name": "stdout",
     "output_type": "stream",
     "text": [
      "Fitting 10 folds for each of 30 candidates, totalling 300 fits\n"
     ]
    },
    {
     "data": {
      "text/plain": [
       "{'n_neighbors': 27}"
      ]
     },
     "execution_count": 35,
     "metadata": {},
     "output_type": "execute_result"
    }
   ],
   "source": [
    "\n",
    "from sklearn.model_selection import GridSearchCV\n",
    "k_range = list(range(1, 31))\n",
    "param_grid = dict(n_neighbors=k_range)\n",
    "  \n",
    "# defining parameter range\n",
    "grid = GridSearchCV(kneigh, param_grid, cv=10, scoring='accuracy', return_train_score=False,verbose=1)\n",
    "  \n",
    "# fitting the model for grid search\n",
    "grid_search=grid.fit(x_train1, y_train1)\n",
    "grid_search.best_params_"
   ]
  },
  {
   "cell_type": "code",
   "execution_count": 90,
   "metadata": {},
   "outputs": [
    {
     "name": "stdout",
     "output_type": "stream",
     "text": [
      "knn's Accuracy is 0.6051666666666666\n",
      "knn's roc auc score is 0.6051666666666666\n"
     ]
    }
   ],
   "source": [
    "from sklearn.neighbors import KNeighborsClassifier\n",
    "kneigh = KNeighborsClassifier(n_neighbors=27)\n",
    "kneigh.fit(x_train1, y_train1)\n",
    "pred_tree =  kneigh.predict(x_test1)\n",
    "print(\"knn's Accuracy is \"+str(accuracy_score(pred_tree, y_test1)))\n",
    "print(\"knn's roc auc score is \"+str(accuracy_score(pred_tree, y_test1)))"
   ]
  },
  {
   "cell_type": "code",
   "execution_count": null,
   "metadata": {},
   "outputs": [],
   "source": [
    "plot_learning_curves(KNeighborsClassifier(n_neighbors=27), x_train1, y_train1)"
   ]
  },
  {
   "cell_type": "code",
   "execution_count": 141,
   "metadata": {},
   "outputs": [
    {
     "name": "stdout",
     "output_type": "stream",
     "text": [
      "LogisticRegression 0.617\n",
      "DecisionTreeClassifier 0.6268333333333334\n",
      "VotingClassifier 0.629\n"
     ]
    }
   ],
   "source": [
    "from sklearn.ensemble import RandomForestClassifier\n",
    "from sklearn.ensemble import VotingClassifier\n",
    "from sklearn.linear_model import LogisticRegression\n",
    "\n",
    "\n",
    "\n",
    "voting_clf = VotingClassifier(\n",
    "estimators=[('s_lg', log_reg), ('tr', tree_clf)],\n",
    "voting='soft')\n",
    "voting_clf.fit(x_train1, y_train1)\n",
    "from sklearn.metrics import accuracy_score\n",
    "\n",
    "for clf in (log_reg, tree_clf, voting_clf):\n",
    "    clf.fit(x_train1, y_train1)\n",
    "    y_pred = clf.predict(x_test1)\n",
    "    print(clf.__class__.__name__, accuracy_score(y_test1, y_pred))\n"
   ]
  },
  {
   "cell_type": "code",
   "execution_count": null,
   "metadata": {},
   "outputs": [],
   "source": []
  },
  {
   "cell_type": "code",
   "execution_count": 36,
   "metadata": {},
   "outputs": [
    {
     "name": "stdout",
     "output_type": "stream",
     "text": [
      "0.6325\n",
      "0.6410714075775975\n",
      "0.6343333333333333\n",
      "0.6415162832631011\n"
     ]
    }
   ],
   "source": [
    "#BAGGING TIME!\n",
    "from sklearn.ensemble import BaggingClassifier\n",
    "'''\n",
    "from sklearn.tree import DecisionTreeClassifier\n",
    "bag_clf = BaggingClassifier(\n",
    "DecisionTreeClassifier(), n_estimators=500,\n",
    "max_samples=100, bootstrap=True, n_jobs=-1)\n",
    "bag_clf.fit(x_train, y_train)\n",
    "y_pred_bag = bag_clf.predict(x_test)'''\n",
    "\n",
    "\n",
    "#print(\"Logistic regreession softmax's Accuracy is \"+str(accuracy_score(y_pred_bag, y_test)))\n",
    "#print(\"Logistic regreession softmax's AUC score is \"+str(roc_auc_score(y_pred_bag, y_test)))\n",
    "\n",
    "a = RandomForestClassifier(max_depth=6, random_state=5,n_estimators = 50, max_features = 0.5)\n",
    "b = DecisionTreeClassifier(max_depth=6,max_features = 0.5)\n",
    "\n",
    "for clf in (a, b):\n",
    "    bag_clf = BaggingClassifier(\n",
    "    clf, n_estimators=100,\n",
    "    max_samples=10000, bootstrap=True, n_jobs=-1)\n",
    "    bag_clf.fit(x_train1, y_train1)\n",
    "    y_pred_bag = bag_clf.predict(x_test1)\n",
    "\n",
    "\n",
    "    print(str(accuracy_score(y_pred_bag, y_test1)))\n",
    "    print(str(roc_auc_score(y_pred_bag, y_test1)))"
   ]
  },
  {
   "cell_type": "markdown",
   "metadata": {},
   "source": [
    "## Checking Recall"
   ]
  },
  {
   "cell_type": "code",
   "execution_count": 37,
   "metadata": {
    "execution": {
     "iopub.execute_input": "2022-12-05T13:06:52.234482Z",
     "iopub.status.busy": "2022-12-05T13:06:52.233863Z",
     "iopub.status.idle": "2022-12-05T13:06:52.632612Z",
     "shell.execute_reply": "2022-12-05T13:06:52.632019Z",
     "shell.execute_reply.started": "2022-12-05T13:06:52.234440Z"
    }
   },
   "outputs": [
    {
     "data": {
      "image/png": "[encoded data removed]",
      "text/plain": [
       "<Figure size 432x288 with 2 Axes>"
      ]
     },
     "metadata": {
      "needs_background": "light"
     },
     "output_type": "display_data"
    }
   ],
   "source": [
    "from sklearn.metrics import ConfusionMatrixDisplay\n",
    "\n",
    "disp = ConfusionMatrixDisplay(confusion_matrix(y_pred_bag, y_test1))\n",
    "disp = disp.plot()"
   ]
  },
  {
   "cell_type": "markdown",
   "metadata": {},
   "source": [
    "# FEATURE IMPORTANCES"
   ]
  },
  {
   "cell_type": "code",
   "execution_count": 38,
   "metadata": {
    "execution": {
     "iopub.execute_input": "2022-12-05T13:06:52.981054Z",
     "iopub.status.busy": "2022-12-05T13:06:52.980071Z",
     "iopub.status.idle": "2022-12-05T13:06:53.107803Z",
     "shell.execute_reply": "2022-12-05T13:06:53.106946Z",
     "shell.execute_reply.started": "2022-12-05T13:06:52.980952Z"
    }
   },
   "outputs": [],
   "source": [
    "df_importances = pd.DataFrame(list(x), rnd_clf.feature_importances_)\n",
    "df_importances.columns = [\"Feature_Names\"]\n",
    "df_importances[\"Importances\"] = df_importances.index\n",
    "df_importances = df_importances.sort_values(by = \"Importances\", ascending = False)\n",
    "df_importances.index = np.arange(0,len(df_importances))"
   ]
  },
  {
   "cell_type": "code",
   "execution_count": 39,
   "metadata": {
    "execution": {
     "iopub.execute_input": "2022-12-05T13:06:53.109028Z",
     "iopub.status.busy": "2022-12-05T13:06:53.108785Z",
     "iopub.status.idle": "2022-12-05T13:06:53.120326Z",
     "shell.execute_reply": "2022-12-05T13:06:53.119301Z",
     "shell.execute_reply.started": "2022-12-05T13:06:53.109000Z"
    }
   },
   "outputs": [
    {
     "data": {
      "text/html": [
       "<div>\n",
       "<style scoped>\n",
       "    .dataframe tbody tr th:only-of-type {\n",
       "        vertical-align: middle;\n",
       "    }\n",
       "\n",
       "    .dataframe tbody tr th {\n",
       "        vertical-align: top;\n",
       "    }\n",
       "\n",
       "    .dataframe thead th {\n",
       "        text-align: right;\n",
       "    }\n",
       "</style>\n",
       "<table border=\"1\" class=\"dataframe\">\n",
       "  <thead>\n",
       "    <tr style=\"text-align: right;\">\n",
       "      <th></th>\n",
       "      <th>Feature_Names</th>\n",
       "      <th>Importances</th>\n",
       "    </tr>\n",
       "  </thead>\n",
       "  <tbody>\n",
       "    <tr>\n",
       "      <th>0</th>\n",
       "      <td>PNEUMONIA</td>\n",
       "      <td>0.329333</td>\n",
       "    </tr>\n",
       "    <tr>\n",
       "      <th>1</th>\n",
       "      <td>AGE</td>\n",
       "      <td>0.183106</td>\n",
       "    </tr>\n",
       "    <tr>\n",
       "      <th>2</th>\n",
       "      <td>MEDICAL_UNIT</td>\n",
       "      <td>0.151213</td>\n",
       "    </tr>\n",
       "    <tr>\n",
       "      <th>3</th>\n",
       "      <td>PATIENT_TYPE</td>\n",
       "      <td>0.094549</td>\n",
       "    </tr>\n",
       "    <tr>\n",
       "      <th>4</th>\n",
       "      <td>DEATH</td>\n",
       "      <td>0.070930</td>\n",
       "    </tr>\n",
       "    <tr>\n",
       "      <th>5</th>\n",
       "      <td>OBESITY</td>\n",
       "      <td>0.041384</td>\n",
       "    </tr>\n",
       "    <tr>\n",
       "      <th>6</th>\n",
       "      <td>USMER</td>\n",
       "      <td>0.032859</td>\n",
       "    </tr>\n",
       "    <tr>\n",
       "      <th>7</th>\n",
       "      <td>SEX</td>\n",
       "      <td>0.015483</td>\n",
       "    </tr>\n",
       "    <tr>\n",
       "      <th>8</th>\n",
       "      <td>INMSUPR</td>\n",
       "      <td>0.015160</td>\n",
       "    </tr>\n",
       "    <tr>\n",
       "      <th>9</th>\n",
       "      <td>OTHER_DISEASE</td>\n",
       "      <td>0.012914</td>\n",
       "    </tr>\n",
       "    <tr>\n",
       "      <th>10</th>\n",
       "      <td>RENAL_CHRONIC</td>\n",
       "      <td>0.010331</td>\n",
       "    </tr>\n",
       "    <tr>\n",
       "      <th>11</th>\n",
       "      <td>DIABETES</td>\n",
       "      <td>0.009527</td>\n",
       "    </tr>\n",
       "    <tr>\n",
       "      <th>12</th>\n",
       "      <td>CARDIOVASCULAR</td>\n",
       "      <td>0.008593</td>\n",
       "    </tr>\n",
       "    <tr>\n",
       "      <th>13</th>\n",
       "      <td>TOBACCO</td>\n",
       "      <td>0.007962</td>\n",
       "    </tr>\n",
       "    <tr>\n",
       "      <th>14</th>\n",
       "      <td>HIPERTENSION</td>\n",
       "      <td>0.007371</td>\n",
       "    </tr>\n",
       "    <tr>\n",
       "      <th>15</th>\n",
       "      <td>COPD</td>\n",
       "      <td>0.005015</td>\n",
       "    </tr>\n",
       "    <tr>\n",
       "      <th>16</th>\n",
       "      <td>ASTHMA</td>\n",
       "      <td>0.002775</td>\n",
       "    </tr>\n",
       "    <tr>\n",
       "      <th>17</th>\n",
       "      <td>PREGNANT</td>\n",
       "      <td>0.001495</td>\n",
       "    </tr>\n",
       "  </tbody>\n",
       "</table>\n",
       "</div>"
      ],
      "text/plain": [
       "     Feature_Names  Importances\n",
       "0        PNEUMONIA     0.329333\n",
       "1              AGE     0.183106\n",
       "2     MEDICAL_UNIT     0.151213\n",
       "3     PATIENT_TYPE     0.094549\n",
       "4            DEATH     0.070930\n",
       "5          OBESITY     0.041384\n",
       "6            USMER     0.032859\n",
       "7              SEX     0.015483\n",
       "8          INMSUPR     0.015160\n",
       "9    OTHER_DISEASE     0.012914\n",
       "10   RENAL_CHRONIC     0.010331\n",
       "11        DIABETES     0.009527\n",
       "12  CARDIOVASCULAR     0.008593\n",
       "13         TOBACCO     0.007962\n",
       "14    HIPERTENSION     0.007371\n",
       "15            COPD     0.005015\n",
       "16          ASTHMA     0.002775\n",
       "17        PREGNANT     0.001495"
      ]
     },
     "execution_count": 39,
     "metadata": {},
     "output_type": "execute_result"
    }
   ],
   "source": [
    "df_importances"
   ]
  },
  {
   "cell_type": "code",
   "execution_count": 40,
   "metadata": {
    "execution": {
     "iopub.execute_input": "2022-12-05T13:06:53.121543Z",
     "iopub.status.busy": "2022-12-05T13:06:53.121328Z",
     "iopub.status.idle": "2022-12-05T13:06:53.414134Z",
     "shell.execute_reply": "2022-12-05T13:06:53.413365Z",
     "shell.execute_reply.started": "2022-12-05T13:06:53.121516Z"
    },
    "scrolled": true
   },
   "outputs": [
    {
     "data": {
      "image/png": "[encoded data removed]",
      "text/plain": [
       "<Figure size 1080x576 with 1 Axes>"
      ]
     },
     "metadata": {
      "needs_background": "light"
     },
     "output_type": "display_data"
    }
   ],
   "source": [
    "plt.figure(figsize = (15,8))\n",
    "ax = sns.barplot(x = \"Feature_Names\", y = \"Importances\", data = df_importances.sort_values(\n",
    "    by = \"Importances\", ascending=False)[0:10])\n",
    "plt.title(\"Feature Importances\", fontsize = 25)\n",
    "for bars in ax.containers:\n",
    "    ax.bar_label(bars)"
   ]
  },
  {
   "cell_type": "code",
   "execution_count": 88,
   "metadata": {},
   "outputs": [],
   "source": [
    "from sklearn.model_selection import cross_validate\n",
    "def cross_validation(model, _X, _y, _cv=5):\n",
    "      \n",
    "      _scoring = ['accuracy', 'precision', 'recall', 'f1']\n",
    "      results = cross_validate(estimator=model,\n",
    "                               X=_X,\n",
    "                               y=_y,\n",
    "                               cv=_cv,\n",
    "                               scoring=_scoring,\n",
    "                               return_train_score=True)\n",
    "      \n",
    "      return {\"Training Accuracy scores\": results['train_accuracy'],\n",
    "              \"Mean Training Accuracy\": results['train_accuracy'].mean()*100,\n",
    "              \"Training Precision scores\": results['train_precision'],\n",
    "              \"Mean Training Precision\": results['train_precision'].mean(),\n",
    "              \"Training Recall scores\": results['train_recall'],\n",
    "              \"Mean Training Recall\": results['train_recall'].mean(),\n",
    "              \"Training F1 scores\": results['train_f1'],\n",
    "              \"Mean Training F1 Score\": results['train_f1'].mean(),\n",
    "              \"Validation Accuracy scores\": results['test_accuracy'],\n",
    "              \"Mean Validation Accuracy\": results['test_accuracy'].mean()*100,\n",
    "              \"Validation Precision scores\": results['test_precision'],\n",
    "              \"Mean Validation Precision\": results['test_precision'].mean(),\n",
    "              \"Validation Recall scores\": results['test_recall'],\n",
    "              \"Mean Validation Recall\": results['test_recall'].mean(),\n",
    "              \"Validation F1 scores\": results['test_f1'],\n",
    "              \"Mean Validation F1 Score\": results['test_f1'].mean()\n",
    "              }"
   ]
  },
  {
   "cell_type": "code",
   "execution_count": 93,
   "metadata": {},
   "outputs": [],
   "source": [
    "def plot_result(x_label, y_label, plot_title, train_data, val_data):\n",
    "        plt.figure(figsize=(12,6))\n",
    "        labels = [\"1\", \"2\", \"3\", \"4\", \"5\",\"6\",\"7\",\"8\",\"9\",\"10\"]\n",
    "        X_axis = np.arange(len(labels))\n",
    "        ax = plt.gca()\n",
    "        plt.ylim(0.4, 0.7)\n",
    "        plt.bar(X_axis-0.2, train_data, 0.4, color='blue', label='Training')\n",
    "        plt.bar(X_axis+0.2, val_data, 0.4, color='red', label='Validation')\n",
    "        plt.title(plot_title, fontsize=30)\n",
    "        plt.xticks(X_axis, labels)\n",
    "        plt.xlabel(x_label, fontsize=14)\n",
    "        plt.ylabel(y_label, fontsize=14)\n",
    "        plt.legend()\n",
    "        plt.grid(True)\n",
    "        plt.show()"
   ]
  },
  {
   "cell_type": "code",
   "execution_count": 111,
   "metadata": {
    "scrolled": true
   },
   "outputs": [
    {
     "name": "stdout",
     "output_type": "stream",
     "text": [
      "{'Training Accuracy scores': array([0.63925926, 0.64290123, 0.64117284, 0.64209877, 0.64203704,\n",
      "       0.6417284 , 0.64160494, 0.64209877, 0.64253086, 0.64222222]), 'Mean Training Accuracy': 64.17654320987654, 'Training Precision scores': array([0.6320186 , 0.63579496, 0.63325877, 0.63412322, 0.63443926,\n",
      "       0.63486414, 0.63184713, 0.63347912, 0.63603069, 0.63565891]), 'Mean Training Precision': 0.6341514818991675, 'Training Recall scores': array([0.82368126, 0.82123218, 0.82605768, 0.82583324, 0.82403771,\n",
      "       0.82067108, 0.83492313, 0.82897542, 0.81853888, 0.81898777]), 'Mean Training Recall': 0.8242938354983395, 'Training F1 scores': array([0.71523243, 0.71671319, 0.71692233, 0.7173913 , 0.71691482,\n",
      "       0.71590798, 0.71932708, 0.71816061, 0.71583493, 0.71577089]), 'Mean Training F1 Score': 0.7168175553579028, 'Validation Accuracy scores': array([0.65111111, 0.61611111, 0.64111111, 0.63      , 0.63555556,\n",
      "       0.62055556, 0.62833333, 0.62388889, 0.63277778, 0.64277778]), 'Mean Validation Accuracy': 63.22222222222222, 'Validation Precision scores': array([0.63886764, 0.61652377, 0.63500785, 0.62442396, 0.62651515,\n",
      "       0.62172879, 0.62149886, 0.62010744, 0.62922231, 0.63958166]), 'Mean Validation Precision': 0.627347743447685, 'Validation Recall scores': array([0.84258325, 0.7989899 , 0.81717172, 0.82121212, 0.83535354,\n",
      "       0.79191919, 0.82929293, 0.81616162, 0.80909091, 0.8030303 ]), 'Mean Validation Recall': 0.8164805471465411, 'Validation F1 scores': array([0.72671889, 0.69599648, 0.71466431, 0.70942408, 0.71601732,\n",
      "       0.6965793 , 0.71051493, 0.7047536 , 0.70790985, 0.71204657]), 'Mean Validation F1 Score': 0.7094625330041338}\n"
     ]
    }
   ],
   "source": [
    "decision_tree_result = cross_validation(bag_clf, x_train1, y_train1, 10)\n",
    "print(decision_tree_result)"
   ]
  },
  {
   "cell_type": "code",
   "execution_count": 112,
   "metadata": {
    "scrolled": true
   },
   "outputs": [
    {
     "data": {
      "image/png": "[encoded data removed]",
      "text/plain": [
       "<Figure size 864x432 with 1 Axes>"
      ]
     },
     "metadata": {
      "needs_background": "light"
     },
     "output_type": "display_data"
    }
   ],
   "source": [
    "model_name = \"Decision Tree\"\n",
    "plot_result(model_name,\n",
    "            \"Accuracy\",\n",
    "            \"Accuracy scores in 10 Folds\",\n",
    "            decision_tree_result[\"Training Accuracy scores\"],\n",
    "            decision_tree_result[\"Validation Accuracy scores\"])"
   ]
  },
  {
   "cell_type": "code",
   "execution_count": 56,
   "metadata": {
    "scrolled": true
   },
   "outputs": [
    {
     "name": "stdout",
     "output_type": "stream",
     "text": [
      "shape 2000 test-size: 0.1 random forest's Accuracy is 0.635\n",
      "test-size: 0.1 random forest's roc is 0.6434027777777778\n",
      "shape 3001 test-size: 0.15000000000000002 random forest's Accuracy is 0.6394535154948351\n",
      "test-size: 0.15000000000000002 random forest's roc is 0.646987597599563\n",
      "shape 4001 test-size: 0.20000000000000004 random forest's Accuracy is 0.6398400399900025\n",
      "test-size: 0.20000000000000004 random forest's roc is 0.648913910563813\n",
      "shape 5001 test-size: 0.25000000000000006 random forest's Accuracy is 0.6374725054989002\n",
      "test-size: 0.25000000000000006 random forest's roc is 0.6438510649432204\n",
      "shape 6001 test-size: 0.30000000000000004 random forest's Accuracy is 0.6325612397933678\n",
      "test-size: 0.30000000000000004 random forest's roc is 0.6381771429622125\n",
      "shape 7001 test-size: 0.3500000000000001 random forest's Accuracy is 0.6356234823596629\n",
      "test-size: 0.3500000000000001 random forest's roc is 0.6428496379485665\n",
      "shape 8001 test-size: 0.40000000000000013 random forest's Accuracy is 0.6326709161354831\n",
      "test-size: 0.40000000000000013 random forest's roc is 0.6403622344170039\n",
      "shape 9001 test-size: 0.45000000000000007 random forest's Accuracy is 0.6345961559826686\n",
      "test-size: 0.45000000000000007 random forest's roc is 0.6380268094793298\n",
      "shape 10001 test-size: 0.5000000000000001 random forest's Accuracy is 0.6345365463453655\n",
      "test-size: 0.5000000000000001 random forest's roc is 0.6395893179518717\n",
      "shape 11001 test-size: 0.5500000000000002 random forest's Accuracy is 0.6314880465412235\n",
      "test-size: 0.5500000000000002 random forest's roc is 0.6369309567330256\n",
      "shape 12001 test-size: 0.6000000000000002 random forest's Accuracy is 0.6314473793850512\n",
      "test-size: 0.6000000000000002 random forest's roc is 0.635591264148526\n",
      "shape 13001 test-size: 0.6500000000000001 random forest's Accuracy is 0.6317206368740866\n",
      "test-size: 0.6500000000000001 random forest's roc is 0.6360933769912254\n",
      "shape 14001 test-size: 0.7000000000000002 random forest's Accuracy is 0.6261695593171916\n",
      "test-size: 0.7000000000000002 random forest's roc is 0.627533873847351\n",
      "shape 15001 test-size: 0.7500000000000002 random forest's Accuracy is 0.6248250116658889\n",
      "test-size: 0.7500000000000002 random forest's roc is 0.6281504029198024\n",
      "shape 16001 test-size: 0.8000000000000002 random forest's Accuracy is 0.6278982563589776\n",
      "test-size: 0.8000000000000002 random forest's roc is 0.6361134870675135\n",
      "shape 17001 test-size: 0.8500000000000002 random forest's Accuracy is 0.6277866007881889\n",
      "test-size: 0.8500000000000002 random forest's roc is 0.6345443532050427\n",
      "shape 18001 test-size: 0.9000000000000002 random forest's Accuracy is 0.6282984278651186\n",
      "test-size: 0.9000000000000002 random forest's roc is 0.6341880335677242\n",
      "shape 19001 test-size: 0.9500000000000003 random forest's Accuracy is 0.6270722593547708\n",
      "test-size: 0.9500000000000003 random forest's roc is 0.6262945106615998\n"
     ]
    }
   ],
   "source": [
    "aa = np.arange(0.1,1,0.05)\n",
    "aa\n",
    "for ii in aa:\n",
    "    x_train1,x_test1,y_train1,y_test1 = train_test_split(x1, y1, test_size = ii,random_state = 0)\n",
    "\n",
    "    rnd_clf = RandomForestClassifier(max_depth=6, random_state=5,n_estimators = 50, max_features = 0.5)\n",
    "    rnd_clf.fit(x_train1, y_train1)\n",
    "    pred_rand_tree =  rnd_clf.predict(x_test1)\n",
    "    print(\"shape \" + str(x_test1.shape[0]) + \" test-size: \"+str(ii)+\" random forest's Accuracy is \"+str(accuracy_score(pred_rand_tree, y_test1)))\n",
    "    print(\"test-size: \"+str(ii)+\" random forest's roc is \"+str(roc_auc_score(pred_rand_tree, y_test1)))\n",
    "    "
   ]
  },
  {
   "cell_type": "code",
   "execution_count": 57,
   "metadata": {},
   "outputs": [
    {
     "name": "stdout",
     "output_type": "stream",
     "text": [
      "random forest's Accuracy is 0.635\n",
      "random forest's roc is 0.6434027777777778\n"
     ]
    }
   ],
   "source": [
    "x_train1,x_test1,y_train1,y_test1 = train_test_split(x1, y1, test_size = 0.1,random_state = 0)\n",
    "rnd_clf = RandomForestClassifier(max_depth=6, random_state=5,n_estimators = 50, max_features = 0.5)\n",
    "rnd_clf.fit(x_train1, y_train1)\n",
    "pred_rand_tree =  rnd_clf.predict(x_test1)\n",
    "print(\"random forest's Accuracy is \"+str(accuracy_score(pred_rand_tree, y_test1)))\n",
    "print(\"random forest's roc is \"+str(roc_auc_score(pred_rand_tree, y_test1)))\n"
   ]
  },
  {
   "cell_type": "code",
   "execution_count": 62,
   "metadata": {},
   "outputs": [
    {
     "data": {
      "image/png": "[encoded data removed]",
      "text/plain": [
       "<Figure size 432x288 with 2 Axes>"
      ]
     },
     "metadata": {
      "needs_background": "light"
     },
     "output_type": "display_data"
    }
   ],
   "source": [
    "from sklearn.metrics import ConfusionMatrixDisplay\n",
    "\n",
    "disp = ConfusionMatrixDisplay(confusion_matrix(pred_rand_tree, y_test1))\n",
    "disp = disp.plot()"
   ]
  },
  {
   "cell_type": "code",
   "execution_count": 168,
   "metadata": {
    "scrolled": true
   },
   "outputs": [
    {
     "name": "stdout",
     "output_type": "stream",
     "text": [
      "shape 10 test-size: 0.0005  desicion tree's Accuracy is 0.6\n",
      "test-size: 0.0005 desicion tree's roc is 0.625\n",
      "shape 1011 test-size: 0.0505  desicion tree's Accuracy is 0.6379821958456974\n",
      "test-size: 0.0505 desicion tree's roc is 0.6448049040714844\n",
      "shape 2011 test-size: 0.1005  desicion tree's Accuracy is 0.6200895077076082\n",
      "test-size: 0.1005 desicion tree's roc is 0.6312167986767185\n",
      "shape 3011 test-size: 0.15050000000000002  desicion tree's Accuracy is 0.6313517103952175\n",
      "test-size: 0.15050000000000002 desicion tree's roc is 0.6509471172634088\n",
      "shape 4011 test-size: 0.2005  desicion tree's Accuracy is 0.6360009972575418\n",
      "test-size: 0.2005 desicion tree's roc is 0.6414954858228141\n",
      "shape 5010 test-size: 0.2505  desicion tree's Accuracy is 0.6369261477045908\n",
      "test-size: 0.2505 desicion tree's roc is 0.6427023999259298\n",
      "shape 6011 test-size: 0.30050000000000004  desicion tree's Accuracy is 0.6230244551655298\n",
      "test-size: 0.30050000000000004 desicion tree's roc is 0.6225615102982877\n",
      "shape 7011 test-size: 0.35050000000000003  desicion tree's Accuracy is 0.6251604621309371\n",
      "test-size: 0.35050000000000003 desicion tree's roc is 0.6289887318350982\n",
      "shape 8010 test-size: 0.4005  desicion tree's Accuracy is 0.6299625468164795\n",
      "test-size: 0.4005 desicion tree's roc is 0.6310987310266656\n",
      "shape 9010 test-size: 0.4505  desicion tree's Accuracy is 0.6241953385127635\n",
      "test-size: 0.4505 desicion tree's roc is 0.6239230621991655\n",
      "shape 10010 test-size: 0.5005  desicion tree's Accuracy is 0.6281718281718282\n",
      "test-size: 0.5005 desicion tree's roc is 0.6263480695075146\n",
      "shape 11010 test-size: 0.5505  desicion tree's Accuracy is 0.6313351498637603\n",
      "test-size: 0.5505 desicion tree's roc is 0.630812711988163\n",
      "shape 12010 test-size: 0.6005  desicion tree's Accuracy is 0.6257285595337219\n",
      "test-size: 0.6005 desicion tree's roc is 0.6327357409877782\n",
      "shape 13010 test-size: 0.6505  desicion tree's Accuracy is 0.6287471176018448\n",
      "test-size: 0.6505 desicion tree's roc is 0.630826506696008\n",
      "shape 14010 test-size: 0.7005  desicion tree's Accuracy is 0.6113490364025695\n",
      "test-size: 0.7005 desicion tree's roc is 0.6103219559406732\n",
      "shape 15010 test-size: 0.7505  desicion tree's Accuracy is 0.6208527648234511\n",
      "test-size: 0.7505 desicion tree's roc is 0.6220999384182283\n",
      "shape 16010 test-size: 0.8005  desicion tree's Accuracy is 0.6214865708931917\n",
      "test-size: 0.8005 desicion tree's roc is 0.6241380428884853\n",
      "shape 17010 test-size: 0.8505  desicion tree's Accuracy is 0.61657848324515\n",
      "test-size: 0.8505 desicion tree's roc is 0.6216861758202676\n",
      "shape 18010 test-size: 0.9005  desicion tree's Accuracy is 0.6225985563575791\n",
      "test-size: 0.9005 desicion tree's roc is 0.6344344093336994\n",
      "shape 19010 test-size: 0.9505  desicion tree's Accuracy is 0.6206733298264071\n",
      "test-size: 0.9505 desicion tree's roc is 0.6174999333241625\n"
     ]
    }
   ],
   "source": [
    "aa = np.arange(0.0005,1,0.05)\n",
    "aa\n",
    "for ii in aa:\n",
    "    x_train1,x_test1,y_train1,y_test1 = train_test_split(x1, y1, test_size = ii,random_state = 0)\n",
    "\n",
    "    b = DecisionTreeClassifier(max_depth=6,max_features = 0.5)\n",
    "    b.fit(x_train1, y_train1)\n",
    "    pred_rand_tree =  b.predict(x_test1)\n",
    "    print(\"shape \" + str(x_test1.shape[0]) + \" test-size: \"+str(ii)+\"  desicion tree's Accuracy is \"+str(accuracy_score(pred_rand_tree, y_test1)))\n",
    "    print(\"test-size: \"+str(ii)+\" desicion tree's roc is \"+str(roc_auc_score(pred_rand_tree, y_test1)))\n",
    "    "
   ]
  },
  {
   "cell_type": "code",
   "execution_count": 70,
   "metadata": {
    "scrolled": true
   },
   "outputs": [],
   "source": [
    "af.drop([\"PATIENT_TYPE\", \"DEATH\", \"USMER\",\"OBESITY\",\"OTHER_DISEASE\",\"INMSUPR\"], axis = 1, inplace = True)\n",
    "af.drop([\"DIABETES\", \"ASTHMA\", \"COPD\",\"HIPERTENSION\",\"CARDIOVASCULAR\",\"TOBACCO\"], axis = 1, inplace = True)\n"
   ]
  },
  {
   "cell_type": "code",
   "execution_count": 71,
   "metadata": {},
   "outputs": [
    {
     "name": "stdout",
     "output_type": "stream",
     "text": [
      "random forest's Accuracy is 0.6173333333333333\n",
      "random forest's roc is 0.6349723399155354\n"
     ]
    }
   ],
   "source": [
    "x1 = af.drop(\"CLASIFFICATION_FINAL\", axis = 1)\n",
    "y1 = af[\"CLASIFFICATION_FINAL\"]\n",
    "x_train1,x_test1,y_train1,y_test1 = train_test_split(x1, y1, test_size = 0.3, random_state = 0)\n",
    "\n",
    "rnd_clf = RandomForestClassifier(max_depth=6, random_state=5,n_estimators = 50, max_features = 0.5)\n",
    "rnd_clf.fit(x_train1, y_train1)\n",
    "pred_rand_tree =  rnd_clf.predict(x_test1)\n",
    "print(\"random forest's Accuracy is \"+str(accuracy_score(pred_rand_tree, y_test1)))\n",
    "print(\"random forest's roc is \"+str(roc_auc_score(pred_rand_tree, y_test1)))\n"
   ]
  },
  {
   "cell_type": "code",
   "execution_count": 68,
   "metadata": {},
   "outputs": [
    {
     "data": {
      "text/html": [
       "<div>\n",
       "<style scoped>\n",
       "    .dataframe tbody tr th:only-of-type {\n",
       "        vertical-align: middle;\n",
       "    }\n",
       "\n",
       "    .dataframe tbody tr th {\n",
       "        vertical-align: top;\n",
       "    }\n",
       "\n",
       "    .dataframe thead th {\n",
       "        text-align: right;\n",
       "    }\n",
       "</style>\n",
       "<table border=\"1\" class=\"dataframe\">\n",
       "  <thead>\n",
       "    <tr style=\"text-align: right;\">\n",
       "      <th></th>\n",
       "      <th>MEDICAL_UNIT</th>\n",
       "      <th>SEX</th>\n",
       "      <th>PNEUMONIA</th>\n",
       "      <th>AGE</th>\n",
       "      <th>PREGNANT</th>\n",
       "      <th>DIABETES</th>\n",
       "      <th>COPD</th>\n",
       "      <th>ASTHMA</th>\n",
       "      <th>HIPERTENSION</th>\n",
       "      <th>CARDIOVASCULAR</th>\n",
       "      <th>RENAL_CHRONIC</th>\n",
       "      <th>TOBACCO</th>\n",
       "      <th>CLASIFFICATION_FINAL</th>\n",
       "    </tr>\n",
       "  </thead>\n",
       "  <tbody>\n",
       "    <tr>\n",
       "      <th>0</th>\n",
       "      <td>1</td>\n",
       "      <td>1</td>\n",
       "      <td>1</td>\n",
       "      <td>65</td>\n",
       "      <td>2</td>\n",
       "      <td>2</td>\n",
       "      <td>2</td>\n",
       "      <td>2</td>\n",
       "      <td>1</td>\n",
       "      <td>2</td>\n",
       "      <td>2</td>\n",
       "      <td>2</td>\n",
       "      <td>-1</td>\n",
       "    </tr>\n",
       "    <tr>\n",
       "      <th>1</th>\n",
       "      <td>1</td>\n",
       "      <td>2</td>\n",
       "      <td>1</td>\n",
       "      <td>72</td>\n",
       "      <td>2</td>\n",
       "      <td>2</td>\n",
       "      <td>2</td>\n",
       "      <td>2</td>\n",
       "      <td>1</td>\n",
       "      <td>2</td>\n",
       "      <td>1</td>\n",
       "      <td>2</td>\n",
       "      <td>0</td>\n",
       "    </tr>\n",
       "    <tr>\n",
       "      <th>2</th>\n",
       "      <td>1</td>\n",
       "      <td>2</td>\n",
       "      <td>2</td>\n",
       "      <td>55</td>\n",
       "      <td>2</td>\n",
       "      <td>1</td>\n",
       "      <td>2</td>\n",
       "      <td>2</td>\n",
       "      <td>2</td>\n",
       "      <td>2</td>\n",
       "      <td>2</td>\n",
       "      <td>2</td>\n",
       "      <td>-1</td>\n",
       "    </tr>\n",
       "    <tr>\n",
       "      <th>3</th>\n",
       "      <td>1</td>\n",
       "      <td>1</td>\n",
       "      <td>2</td>\n",
       "      <td>53</td>\n",
       "      <td>2</td>\n",
       "      <td>2</td>\n",
       "      <td>2</td>\n",
       "      <td>2</td>\n",
       "      <td>2</td>\n",
       "      <td>2</td>\n",
       "      <td>2</td>\n",
       "      <td>2</td>\n",
       "      <td>0</td>\n",
       "    </tr>\n",
       "    <tr>\n",
       "      <th>4</th>\n",
       "      <td>1</td>\n",
       "      <td>2</td>\n",
       "      <td>2</td>\n",
       "      <td>68</td>\n",
       "      <td>2</td>\n",
       "      <td>1</td>\n",
       "      <td>2</td>\n",
       "      <td>2</td>\n",
       "      <td>1</td>\n",
       "      <td>2</td>\n",
       "      <td>2</td>\n",
       "      <td>2</td>\n",
       "      <td>-1</td>\n",
       "    </tr>\n",
       "    <tr>\n",
       "      <th>...</th>\n",
       "      <td>...</td>\n",
       "      <td>...</td>\n",
       "      <td>...</td>\n",
       "      <td>...</td>\n",
       "      <td>...</td>\n",
       "      <td>...</td>\n",
       "      <td>...</td>\n",
       "      <td>...</td>\n",
       "      <td>...</td>\n",
       "      <td>...</td>\n",
       "      <td>...</td>\n",
       "      <td>...</td>\n",
       "      <td>...</td>\n",
       "    </tr>\n",
       "    <tr>\n",
       "      <th>20883</th>\n",
       "      <td>4</td>\n",
       "      <td>1</td>\n",
       "      <td>2</td>\n",
       "      <td>61</td>\n",
       "      <td>2</td>\n",
       "      <td>1</td>\n",
       "      <td>2</td>\n",
       "      <td>2</td>\n",
       "      <td>1</td>\n",
       "      <td>2</td>\n",
       "      <td>2</td>\n",
       "      <td>2</td>\n",
       "      <td>0</td>\n",
       "    </tr>\n",
       "    <tr>\n",
       "      <th>20884</th>\n",
       "      <td>4</td>\n",
       "      <td>2</td>\n",
       "      <td>1</td>\n",
       "      <td>62</td>\n",
       "      <td>2</td>\n",
       "      <td>2</td>\n",
       "      <td>2</td>\n",
       "      <td>2</td>\n",
       "      <td>1</td>\n",
       "      <td>1</td>\n",
       "      <td>2</td>\n",
       "      <td>2</td>\n",
       "      <td>0</td>\n",
       "    </tr>\n",
       "    <tr>\n",
       "      <th>20885</th>\n",
       "      <td>4</td>\n",
       "      <td>2</td>\n",
       "      <td>1</td>\n",
       "      <td>53</td>\n",
       "      <td>2</td>\n",
       "      <td>1</td>\n",
       "      <td>2</td>\n",
       "      <td>2</td>\n",
       "      <td>1</td>\n",
       "      <td>2</td>\n",
       "      <td>2</td>\n",
       "      <td>2</td>\n",
       "      <td>0</td>\n",
       "    </tr>\n",
       "    <tr>\n",
       "      <th>20886</th>\n",
       "      <td>4</td>\n",
       "      <td>1</td>\n",
       "      <td>1</td>\n",
       "      <td>56</td>\n",
       "      <td>2</td>\n",
       "      <td>2</td>\n",
       "      <td>2</td>\n",
       "      <td>2</td>\n",
       "      <td>2</td>\n",
       "      <td>2</td>\n",
       "      <td>2</td>\n",
       "      <td>2</td>\n",
       "      <td>0</td>\n",
       "    </tr>\n",
       "    <tr>\n",
       "      <th>20887</th>\n",
       "      <td>4</td>\n",
       "      <td>2</td>\n",
       "      <td>1</td>\n",
       "      <td>24</td>\n",
       "      <td>2</td>\n",
       "      <td>2</td>\n",
       "      <td>2</td>\n",
       "      <td>2</td>\n",
       "      <td>2</td>\n",
       "      <td>2</td>\n",
       "      <td>1</td>\n",
       "      <td>2</td>\n",
       "      <td>0</td>\n",
       "    </tr>\n",
       "  </tbody>\n",
       "</table>\n",
       "<p>20000 rows × 13 columns</p>\n",
       "</div>"
      ],
      "text/plain": [
       "       MEDICAL_UNIT  SEX  PNEUMONIA  AGE  PREGNANT  DIABETES  COPD  ASTHMA  \\\n",
       "0                 1    1          1   65         2         2     2       2   \n",
       "1                 1    2          1   72         2         2     2       2   \n",
       "2                 1    2          2   55         2         1     2       2   \n",
       "3                 1    1          2   53         2         2     2       2   \n",
       "4                 1    2          2   68         2         1     2       2   \n",
       "...             ...  ...        ...  ...       ...       ...   ...     ...   \n",
       "20883             4    1          2   61         2         1     2       2   \n",
       "20884             4    2          1   62         2         2     2       2   \n",
       "20885             4    2          1   53         2         1     2       2   \n",
       "20886             4    1          1   56         2         2     2       2   \n",
       "20887             4    2          1   24         2         2     2       2   \n",
       "\n",
       "       HIPERTENSION  CARDIOVASCULAR  RENAL_CHRONIC  TOBACCO  \\\n",
       "0                 1               2              2        2   \n",
       "1                 1               2              1        2   \n",
       "2                 2               2              2        2   \n",
       "3                 2               2              2        2   \n",
       "4                 1               2              2        2   \n",
       "...             ...             ...            ...      ...   \n",
       "20883             1               2              2        2   \n",
       "20884             1               1              2        2   \n",
       "20885             1               2              2        2   \n",
       "20886             2               2              2        2   \n",
       "20887             2               2              1        2   \n",
       "\n",
       "       CLASIFFICATION_FINAL  \n",
       "0                        -1  \n",
       "1                         0  \n",
       "2                        -1  \n",
       "3                         0  \n",
       "4                        -1  \n",
       "...                     ...  \n",
       "20883                     0  \n",
       "20884                     0  \n",
       "20885                     0  \n",
       "20886                     0  \n",
       "20887                     0  \n",
       "\n",
       "[20000 rows x 13 columns]"
      ]
     },
     "execution_count": 68,
     "metadata": {},
     "output_type": "execute_result"
    }
   ],
   "source": [
    "af"
   ]
  },
  {
   "cell_type": "code",
   "execution_count": 185,
   "metadata": {
    "scrolled": true
   },
   "outputs": [
    {
     "name": "stdout",
     "output_type": "stream",
     "text": [
      "Requirement already satisfied: scikit-learn in c:\\users\\ернар\\appdata\\roaming\\python\\python39\\site-packages (1.2.0)\n",
      "Requirement already satisfied: numpy>=1.17.3 in d:\\ anaconda\\lib\\site-packages (from scikit-learn) (1.21.5)\n",
      "Requirement already satisfied: scipy>=1.3.2 in d:\\ anaconda\\lib\\site-packages (from scikit-learn) (1.7.3)\n",
      "Requirement already satisfied: joblib>=1.1.1 in c:\\users\\ернар\\appdata\\roaming\\python\\python39\\site-packages (from scikit-learn) (1.2.0)\n",
      "Requirement already satisfied: threadpoolctl>=2.0.0 in d:\\ anaconda\\lib\\site-packages (from scikit-learn) (2.2.0)\n",
      "Note: you may need to restart the kernel to use updated packages.\n"
     ]
    }
   ],
   "source": [
    "pip install -U scikit-learn --user"
   ]
  },
  {
   "cell_type": "code",
   "execution_count": null,
   "metadata": {},
   "outputs": [],
   "source": []
  },
  {
   "cell_type": "markdown",
   "metadata": {},
   "source": [
    "What changed after end-term:\n",
    " 1) Trained every classification model without error\n",
    " 2) Used voting classifier increased accuracy by 0.2-0.3 comparitevly with other models\n",
    " 3) Deleted all unimportnant features and check its accuracy with random forest, however its decreased\n",
    " 4) Used K-fold cross validation method with training and validation\n",
    " 5) Showed it with visualization\n",
    " 6) Tried different slices with random forest (increased to 6.35 accuracy, increased to 6.45 roc auc score)\n",
    " 7) Showed it with confusion matrix\n",
    " 8) Showed training and validation learning curves with visualization for 3 models(Decision Tree, Random forest, Linear regression, KNN)\n",
    " 9) Checked accuracy and roc auc score between rbf, linear ,poly,gamma svm models correctly\n",
    " 10) Got that Decision tree with bagging(0.63433) and Random Forest Tree with the best parametres(Grid Search) 0.636 showed the best accuacy and roc auc score\n",
    " 11) The are more 1 000 000  rows,so I left 20 000 rows which was reason for only 0.636 accuacy. With 1 Million rows I waited for 1 hour to inplement svm,knn.\n"
   ]
  }
 ],
 "metadata": {
  "kernelspec": {
   "display_name": "Python 3 (ipykernel)",
   "language": "python",
   "name": "python3"
  },
  "language_info": {
   "codemirror_mode": {
    "name": "ipython",
    "version": 3
   },
   "file_extension": ".py",
   "mimetype": "text/x-python",
   "name": "python",
   "nbconvert_exporter": "python",
   "pygments_lexer": "ipython3",
   "version": "3.9.12"
  }
 },
 "nbformat": 4,
 "nbformat_minor": 4
}
